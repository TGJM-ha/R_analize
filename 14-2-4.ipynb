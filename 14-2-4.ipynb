{
 "cells": [
  {
   "cell_type": "code",
   "execution_count": 1,
   "id": "c87e639e",
   "metadata": {
    "_cell_guid": "b1076dfc-b9ad-4769-8c92-a6c4dae69d19",
    "_uuid": "8f2839f25d086af736a60e9eeb907d3b93b6e0e5",
    "execution": {
     "iopub.execute_input": "2024-11-27T13:17:04.253018Z",
     "iopub.status.busy": "2024-11-27T13:17:04.252614Z",
     "iopub.status.idle": "2024-11-27T13:17:05.098414Z",
     "shell.execute_reply": "2024-11-27T13:17:05.097318Z"
    },
    "papermill": {
     "duration": 0.85807,
     "end_time": "2024-11-27T13:17:05.102013",
     "exception": false,
     "start_time": "2024-11-27T13:17:04.243943",
     "status": "completed"
    },
    "tags": []
   },
   "outputs": [
    {
     "name": "stdout",
     "output_type": "stream",
     "text": [
      "/kaggle/input/big-data-analytics-certification-kr-2022/nf.csv\n",
      "/kaggle/input/big-data-analytics-certification-kr-2022/train.csv\n",
      "/kaggle/input/big-data-analytics-certification-kr-2022/test.csv\n",
      "/kaggle/input/big-data-analytics-certification-kr-2022/fb.csv\n"
     ]
    }
   ],
   "source": [
    "# This Python 3 environment comes with many helpful analytics libraries installed\n",
    "# It is defined by the kaggle/python Docker image: https://github.com/kaggle/docker-python\n",
    "# For example, here's several helpful packages to load\n",
    "\n",
    "import numpy as np # linear algebra\n",
    "import pandas as pd # data processing, CSV file I/O (e.g. pd.read_csv)\n",
    "\n",
    "# Input data files are available in the read-only \"../input/\" directory\n",
    "# For example, running this (by clicking run or pressing Shift+Enter) will list all files under the input directory\n",
    "\n",
    "import os\n",
    "for dirname, _, filenames in os.walk('/kaggle/input'):\n",
    "    for filename in filenames:\n",
    "        print(os.path.join(dirname, filename))\n",
    "\n",
    "# You can write up to 20GB to the current directory (/kaggle/working/) that gets preserved as output when you create a version using \"Save & Run All\" \n",
    "# You can also write temporary files to /kaggle/temp/, but they won't be saved outside of the current session"
   ]
  },
  {
   "cell_type": "code",
   "execution_count": 2,
   "id": "61527356",
   "metadata": {
    "execution": {
     "iopub.execute_input": "2024-11-27T13:17:05.118805Z",
     "iopub.status.busy": "2024-11-27T13:17:05.118267Z",
     "iopub.status.idle": "2024-11-27T13:17:05.160692Z",
     "shell.execute_reply": "2024-11-27T13:17:05.159646Z"
    },
    "papermill": {
     "duration": 0.053175,
     "end_time": "2024-11-27T13:17:05.163131",
     "exception": false,
     "start_time": "2024-11-27T13:17:05.109956",
     "status": "completed"
    },
    "tags": []
   },
   "outputs": [],
   "source": [
    "train=pd.read_csv('/kaggle/input/big-data-analytics-certification-kr-2022/train.csv')\n",
    "test=pd.read_csv('/kaggle/input/big-data-analytics-certification-kr-2022/test.csv')"
   ]
  },
  {
   "cell_type": "code",
   "execution_count": 3,
   "id": "e5bd3015",
   "metadata": {
    "execution": {
     "iopub.execute_input": "2024-11-27T13:17:05.178405Z",
     "iopub.status.busy": "2024-11-27T13:17:05.177616Z",
     "iopub.status.idle": "2024-11-27T13:17:05.182548Z",
     "shell.execute_reply": "2024-11-27T13:17:05.181505Z"
    },
    "papermill": {
     "duration": 0.01468,
     "end_time": "2024-11-27T13:17:05.184570",
     "exception": false,
     "start_time": "2024-11-27T13:17:05.169890",
     "status": "completed"
    },
    "tags": []
   },
   "outputs": [
    {
     "name": "stdout",
     "output_type": "stream",
     "text": [
      "(6665, 11) (2154, 10)\n"
     ]
    }
   ],
   "source": [
    "print(train.shape,test.shape)"
   ]
  },
  {
   "cell_type": "code",
   "execution_count": 4,
   "id": "f9dc9a79",
   "metadata": {
    "execution": {
     "iopub.execute_input": "2024-11-27T13:17:05.199029Z",
     "iopub.status.busy": "2024-11-27T13:17:05.198652Z",
     "iopub.status.idle": "2024-11-27T13:17:05.222847Z",
     "shell.execute_reply": "2024-11-27T13:17:05.221840Z"
    },
    "papermill": {
     "duration": 0.033783,
     "end_time": "2024-11-27T13:17:05.224900",
     "exception": false,
     "start_time": "2024-11-27T13:17:05.191117",
     "status": "completed"
    },
    "tags": []
   },
   "outputs": [
    {
     "data": {
      "text/html": [
       "<div>\n",
       "<style scoped>\n",
       "    .dataframe tbody tr th:only-of-type {\n",
       "        vertical-align: middle;\n",
       "    }\n",
       "\n",
       "    .dataframe tbody tr th {\n",
       "        vertical-align: top;\n",
       "    }\n",
       "\n",
       "    .dataframe thead th {\n",
       "        text-align: right;\n",
       "    }\n",
       "</style>\n",
       "<table border=\"1\" class=\"dataframe\">\n",
       "  <thead>\n",
       "    <tr style=\"text-align: right;\">\n",
       "      <th></th>\n",
       "      <th>ID</th>\n",
       "      <th>Gender</th>\n",
       "      <th>Ever_Married</th>\n",
       "      <th>Age</th>\n",
       "      <th>Graduated</th>\n",
       "      <th>Profession</th>\n",
       "      <th>Work_Experience</th>\n",
       "      <th>Spending_Score</th>\n",
       "      <th>Family_Size</th>\n",
       "      <th>Var_1</th>\n",
       "      <th>Segmentation</th>\n",
       "    </tr>\n",
       "  </thead>\n",
       "  <tbody>\n",
       "    <tr>\n",
       "      <th>0</th>\n",
       "      <td>462809</td>\n",
       "      <td>Male</td>\n",
       "      <td>No</td>\n",
       "      <td>22</td>\n",
       "      <td>No</td>\n",
       "      <td>Healthcare</td>\n",
       "      <td>1.0</td>\n",
       "      <td>Low</td>\n",
       "      <td>4.0</td>\n",
       "      <td>Cat_4</td>\n",
       "      <td>4</td>\n",
       "    </tr>\n",
       "    <tr>\n",
       "      <th>1</th>\n",
       "      <td>466315</td>\n",
       "      <td>Female</td>\n",
       "      <td>Yes</td>\n",
       "      <td>67</td>\n",
       "      <td>Yes</td>\n",
       "      <td>Engineer</td>\n",
       "      <td>1.0</td>\n",
       "      <td>Low</td>\n",
       "      <td>1.0</td>\n",
       "      <td>Cat_6</td>\n",
       "      <td>2</td>\n",
       "    </tr>\n",
       "    <tr>\n",
       "      <th>2</th>\n",
       "      <td>461735</td>\n",
       "      <td>Male</td>\n",
       "      <td>Yes</td>\n",
       "      <td>67</td>\n",
       "      <td>Yes</td>\n",
       "      <td>Lawyer</td>\n",
       "      <td>0.0</td>\n",
       "      <td>High</td>\n",
       "      <td>2.0</td>\n",
       "      <td>Cat_6</td>\n",
       "      <td>2</td>\n",
       "    </tr>\n",
       "    <tr>\n",
       "      <th>3</th>\n",
       "      <td>461319</td>\n",
       "      <td>Male</td>\n",
       "      <td>Yes</td>\n",
       "      <td>56</td>\n",
       "      <td>No</td>\n",
       "      <td>Artist</td>\n",
       "      <td>0.0</td>\n",
       "      <td>Average</td>\n",
       "      <td>2.0</td>\n",
       "      <td>Cat_6</td>\n",
       "      <td>3</td>\n",
       "    </tr>\n",
       "    <tr>\n",
       "      <th>4</th>\n",
       "      <td>460156</td>\n",
       "      <td>Male</td>\n",
       "      <td>No</td>\n",
       "      <td>32</td>\n",
       "      <td>Yes</td>\n",
       "      <td>Healthcare</td>\n",
       "      <td>1.0</td>\n",
       "      <td>Low</td>\n",
       "      <td>3.0</td>\n",
       "      <td>Cat_6</td>\n",
       "      <td>3</td>\n",
       "    </tr>\n",
       "  </tbody>\n",
       "</table>\n",
       "</div>"
      ],
      "text/plain": [
       "       ID  Gender Ever_Married  Age Graduated  Profession  Work_Experience  \\\n",
       "0  462809    Male           No   22        No  Healthcare              1.0   \n",
       "1  466315  Female          Yes   67       Yes    Engineer              1.0   \n",
       "2  461735    Male          Yes   67       Yes      Lawyer              0.0   \n",
       "3  461319    Male          Yes   56        No      Artist              0.0   \n",
       "4  460156    Male           No   32       Yes  Healthcare              1.0   \n",
       "\n",
       "  Spending_Score  Family_Size  Var_1  Segmentation  \n",
       "0            Low          4.0  Cat_4             4  \n",
       "1            Low          1.0  Cat_6             2  \n",
       "2           High          2.0  Cat_6             2  \n",
       "3        Average          2.0  Cat_6             3  \n",
       "4            Low          3.0  Cat_6             3  "
      ]
     },
     "execution_count": 4,
     "metadata": {},
     "output_type": "execute_result"
    }
   ],
   "source": [
    "train.head()"
   ]
  },
  {
   "cell_type": "code",
   "execution_count": 5,
   "id": "1ec87767",
   "metadata": {
    "execution": {
     "iopub.execute_input": "2024-11-27T13:17:05.241384Z",
     "iopub.status.busy": "2024-11-27T13:17:05.240629Z",
     "iopub.status.idle": "2024-11-27T13:17:05.254194Z",
     "shell.execute_reply": "2024-11-27T13:17:05.253178Z"
    },
    "papermill": {
     "duration": 0.023306,
     "end_time": "2024-11-27T13:17:05.256107",
     "exception": false,
     "start_time": "2024-11-27T13:17:05.232801",
     "status": "completed"
    },
    "tags": []
   },
   "outputs": [
    {
     "data": {
      "text/html": [
       "<div>\n",
       "<style scoped>\n",
       "    .dataframe tbody tr th:only-of-type {\n",
       "        vertical-align: middle;\n",
       "    }\n",
       "\n",
       "    .dataframe tbody tr th {\n",
       "        vertical-align: top;\n",
       "    }\n",
       "\n",
       "    .dataframe thead th {\n",
       "        text-align: right;\n",
       "    }\n",
       "</style>\n",
       "<table border=\"1\" class=\"dataframe\">\n",
       "  <thead>\n",
       "    <tr style=\"text-align: right;\">\n",
       "      <th></th>\n",
       "      <th>ID</th>\n",
       "      <th>Gender</th>\n",
       "      <th>Ever_Married</th>\n",
       "      <th>Age</th>\n",
       "      <th>Graduated</th>\n",
       "      <th>Profession</th>\n",
       "      <th>Work_Experience</th>\n",
       "      <th>Spending_Score</th>\n",
       "      <th>Family_Size</th>\n",
       "      <th>Var_1</th>\n",
       "    </tr>\n",
       "  </thead>\n",
       "  <tbody>\n",
       "    <tr>\n",
       "      <th>0</th>\n",
       "      <td>458989</td>\n",
       "      <td>Female</td>\n",
       "      <td>Yes</td>\n",
       "      <td>36</td>\n",
       "      <td>Yes</td>\n",
       "      <td>Engineer</td>\n",
       "      <td>0.0</td>\n",
       "      <td>Low</td>\n",
       "      <td>1.0</td>\n",
       "      <td>Cat_6</td>\n",
       "    </tr>\n",
       "    <tr>\n",
       "      <th>1</th>\n",
       "      <td>458994</td>\n",
       "      <td>Male</td>\n",
       "      <td>Yes</td>\n",
       "      <td>37</td>\n",
       "      <td>Yes</td>\n",
       "      <td>Healthcare</td>\n",
       "      <td>8.0</td>\n",
       "      <td>Average</td>\n",
       "      <td>4.0</td>\n",
       "      <td>Cat_6</td>\n",
       "    </tr>\n",
       "    <tr>\n",
       "      <th>2</th>\n",
       "      <td>459000</td>\n",
       "      <td>Male</td>\n",
       "      <td>Yes</td>\n",
       "      <td>59</td>\n",
       "      <td>No</td>\n",
       "      <td>Executive</td>\n",
       "      <td>11.0</td>\n",
       "      <td>High</td>\n",
       "      <td>2.0</td>\n",
       "      <td>Cat_6</td>\n",
       "    </tr>\n",
       "    <tr>\n",
       "      <th>3</th>\n",
       "      <td>459003</td>\n",
       "      <td>Male</td>\n",
       "      <td>Yes</td>\n",
       "      <td>47</td>\n",
       "      <td>Yes</td>\n",
       "      <td>Doctor</td>\n",
       "      <td>0.0</td>\n",
       "      <td>High</td>\n",
       "      <td>5.0</td>\n",
       "      <td>Cat_4</td>\n",
       "    </tr>\n",
       "    <tr>\n",
       "      <th>4</th>\n",
       "      <td>459005</td>\n",
       "      <td>Male</td>\n",
       "      <td>Yes</td>\n",
       "      <td>61</td>\n",
       "      <td>Yes</td>\n",
       "      <td>Doctor</td>\n",
       "      <td>5.0</td>\n",
       "      <td>Low</td>\n",
       "      <td>3.0</td>\n",
       "      <td>Cat_6</td>\n",
       "    </tr>\n",
       "  </tbody>\n",
       "</table>\n",
       "</div>"
      ],
      "text/plain": [
       "       ID  Gender Ever_Married  Age Graduated  Profession  Work_Experience  \\\n",
       "0  458989  Female          Yes   36       Yes    Engineer              0.0   \n",
       "1  458994    Male          Yes   37       Yes  Healthcare              8.0   \n",
       "2  459000    Male          Yes   59        No   Executive             11.0   \n",
       "3  459003    Male          Yes   47       Yes      Doctor              0.0   \n",
       "4  459005    Male          Yes   61       Yes      Doctor              5.0   \n",
       "\n",
       "  Spending_Score  Family_Size  Var_1  \n",
       "0            Low          1.0  Cat_6  \n",
       "1        Average          4.0  Cat_6  \n",
       "2           High          2.0  Cat_6  \n",
       "3           High          5.0  Cat_4  \n",
       "4            Low          3.0  Cat_6  "
      ]
     },
     "execution_count": 5,
     "metadata": {},
     "output_type": "execute_result"
    }
   ],
   "source": [
    "test.head()"
   ]
  },
  {
   "cell_type": "code",
   "execution_count": 6,
   "id": "b031b558",
   "metadata": {
    "execution": {
     "iopub.execute_input": "2024-11-27T13:17:05.271707Z",
     "iopub.status.busy": "2024-11-27T13:17:05.271347Z",
     "iopub.status.idle": "2024-11-27T13:17:05.285075Z",
     "shell.execute_reply": "2024-11-27T13:17:05.284050Z"
    },
    "papermill": {
     "duration": 0.024136,
     "end_time": "2024-11-27T13:17:05.287189",
     "exception": false,
     "start_time": "2024-11-27T13:17:05.263053",
     "status": "completed"
    },
    "tags": []
   },
   "outputs": [
    {
     "data": {
      "text/plain": [
       "Segmentation\n",
       "4    1757\n",
       "3    1720\n",
       "1    1616\n",
       "2    1572\n",
       "Name: count, dtype: int64"
      ]
     },
     "execution_count": 6,
     "metadata": {},
     "output_type": "execute_result"
    }
   ],
   "source": [
    "train['Segmentation'].value_counts()"
   ]
  },
  {
   "cell_type": "code",
   "execution_count": 7,
   "id": "a2641c43",
   "metadata": {
    "execution": {
     "iopub.execute_input": "2024-11-27T13:17:05.303397Z",
     "iopub.status.busy": "2024-11-27T13:17:05.302341Z",
     "iopub.status.idle": "2024-11-27T13:17:05.313907Z",
     "shell.execute_reply": "2024-11-27T13:17:05.312914Z"
    },
    "papermill": {
     "duration": 0.021703,
     "end_time": "2024-11-27T13:17:05.315962",
     "exception": false,
     "start_time": "2024-11-27T13:17:05.294259",
     "status": "completed"
    },
    "tags": []
   },
   "outputs": [
    {
     "data": {
      "text/plain": [
       "ID                 0\n",
       "Gender             0\n",
       "Ever_Married       0\n",
       "Age                0\n",
       "Graduated          0\n",
       "Profession         0\n",
       "Work_Experience    0\n",
       "Spending_Score     0\n",
       "Family_Size        0\n",
       "Var_1              0\n",
       "Segmentation       0\n",
       "dtype: int64"
      ]
     },
     "execution_count": 7,
     "metadata": {},
     "output_type": "execute_result"
    }
   ],
   "source": [
    "train.isna().sum()"
   ]
  },
  {
   "cell_type": "code",
   "execution_count": 8,
   "id": "c02846dd",
   "metadata": {
    "execution": {
     "iopub.execute_input": "2024-11-27T13:17:05.332493Z",
     "iopub.status.busy": "2024-11-27T13:17:05.332171Z",
     "iopub.status.idle": "2024-11-27T13:17:05.340819Z",
     "shell.execute_reply": "2024-11-27T13:17:05.339821Z"
    },
    "papermill": {
     "duration": 0.019142,
     "end_time": "2024-11-27T13:17:05.343009",
     "exception": false,
     "start_time": "2024-11-27T13:17:05.323867",
     "status": "completed"
    },
    "tags": []
   },
   "outputs": [
    {
     "data": {
      "text/plain": [
       "ID                 0\n",
       "Gender             0\n",
       "Ever_Married       0\n",
       "Age                0\n",
       "Graduated          0\n",
       "Profession         0\n",
       "Work_Experience    0\n",
       "Spending_Score     0\n",
       "Family_Size        0\n",
       "Var_1              0\n",
       "dtype: int64"
      ]
     },
     "execution_count": 8,
     "metadata": {},
     "output_type": "execute_result"
    }
   ],
   "source": [
    "test.isna().sum()\n"
   ]
  },
  {
   "cell_type": "code",
   "execution_count": 9,
   "id": "ae1e2b4d",
   "metadata": {
    "execution": {
     "iopub.execute_input": "2024-11-27T13:17:05.359537Z",
     "iopub.status.busy": "2024-11-27T13:17:05.359180Z",
     "iopub.status.idle": "2024-11-27T13:17:05.382141Z",
     "shell.execute_reply": "2024-11-27T13:17:05.380815Z"
    },
    "papermill": {
     "duration": 0.033205,
     "end_time": "2024-11-27T13:17:05.384039",
     "exception": false,
     "start_time": "2024-11-27T13:17:05.350834",
     "status": "completed"
    },
    "tags": []
   },
   "outputs": [
    {
     "name": "stdout",
     "output_type": "stream",
     "text": [
      "<class 'pandas.core.frame.DataFrame'>\n",
      "RangeIndex: 6665 entries, 0 to 6664\n",
      "Data columns (total 11 columns):\n",
      " #   Column           Non-Null Count  Dtype  \n",
      "---  ------           --------------  -----  \n",
      " 0   ID               6665 non-null   int64  \n",
      " 1   Gender           6665 non-null   object \n",
      " 2   Ever_Married     6665 non-null   object \n",
      " 3   Age              6665 non-null   int64  \n",
      " 4   Graduated        6665 non-null   object \n",
      " 5   Profession       6665 non-null   object \n",
      " 6   Work_Experience  6665 non-null   float64\n",
      " 7   Spending_Score   6665 non-null   object \n",
      " 8   Family_Size      6665 non-null   float64\n",
      " 9   Var_1            6665 non-null   object \n",
      " 10  Segmentation     6665 non-null   int64  \n",
      "dtypes: float64(2), int64(3), object(6)\n",
      "memory usage: 572.9+ KB\n"
     ]
    }
   ],
   "source": [
    "train.info()"
   ]
  },
  {
   "cell_type": "code",
   "execution_count": 10,
   "id": "3e4fcaec",
   "metadata": {
    "execution": {
     "iopub.execute_input": "2024-11-27T13:17:05.400697Z",
     "iopub.status.busy": "2024-11-27T13:17:05.399903Z",
     "iopub.status.idle": "2024-11-27T13:17:05.410318Z",
     "shell.execute_reply": "2024-11-27T13:17:05.409327Z"
    },
    "papermill": {
     "duration": 0.021084,
     "end_time": "2024-11-27T13:17:05.412409",
     "exception": false,
     "start_time": "2024-11-27T13:17:05.391325",
     "status": "completed"
    },
    "tags": []
   },
   "outputs": [
    {
     "name": "stdout",
     "output_type": "stream",
     "text": [
      "<class 'pandas.core.frame.DataFrame'>\n",
      "RangeIndex: 2154 entries, 0 to 2153\n",
      "Data columns (total 10 columns):\n",
      " #   Column           Non-Null Count  Dtype  \n",
      "---  ------           --------------  -----  \n",
      " 0   ID               2154 non-null   int64  \n",
      " 1   Gender           2154 non-null   object \n",
      " 2   Ever_Married     2154 non-null   object \n",
      " 3   Age              2154 non-null   int64  \n",
      " 4   Graduated        2154 non-null   object \n",
      " 5   Profession       2154 non-null   object \n",
      " 6   Work_Experience  2154 non-null   float64\n",
      " 7   Spending_Score   2154 non-null   object \n",
      " 8   Family_Size      2154 non-null   float64\n",
      " 9   Var_1            2154 non-null   object \n",
      "dtypes: float64(2), int64(2), object(6)\n",
      "memory usage: 168.4+ KB\n"
     ]
    }
   ],
   "source": [
    "test.info()\n"
   ]
  },
  {
   "cell_type": "code",
   "execution_count": 11,
   "id": "99c2d91f",
   "metadata": {
    "execution": {
     "iopub.execute_input": "2024-11-27T13:17:05.428859Z",
     "iopub.status.busy": "2024-11-27T13:17:05.428447Z",
     "iopub.status.idle": "2024-11-27T13:17:05.451027Z",
     "shell.execute_reply": "2024-11-27T13:17:05.449994Z"
    },
    "papermill": {
     "duration": 0.033065,
     "end_time": "2024-11-27T13:17:05.453021",
     "exception": false,
     "start_time": "2024-11-27T13:17:05.419956",
     "status": "completed"
    },
    "tags": []
   },
   "outputs": [
    {
     "data": {
      "text/html": [
       "<div>\n",
       "<style scoped>\n",
       "    .dataframe tbody tr th:only-of-type {\n",
       "        vertical-align: middle;\n",
       "    }\n",
       "\n",
       "    .dataframe tbody tr th {\n",
       "        vertical-align: top;\n",
       "    }\n",
       "\n",
       "    .dataframe thead th {\n",
       "        text-align: right;\n",
       "    }\n",
       "</style>\n",
       "<table border=\"1\" class=\"dataframe\">\n",
       "  <thead>\n",
       "    <tr style=\"text-align: right;\">\n",
       "      <th></th>\n",
       "      <th>Gender</th>\n",
       "      <th>Ever_Married</th>\n",
       "      <th>Graduated</th>\n",
       "      <th>Profession</th>\n",
       "      <th>Spending_Score</th>\n",
       "      <th>Var_1</th>\n",
       "    </tr>\n",
       "  </thead>\n",
       "  <tbody>\n",
       "    <tr>\n",
       "      <th>count</th>\n",
       "      <td>6665</td>\n",
       "      <td>6665</td>\n",
       "      <td>6665</td>\n",
       "      <td>6665</td>\n",
       "      <td>6665</td>\n",
       "      <td>6665</td>\n",
       "    </tr>\n",
       "    <tr>\n",
       "      <th>unique</th>\n",
       "      <td>2</td>\n",
       "      <td>2</td>\n",
       "      <td>2</td>\n",
       "      <td>9</td>\n",
       "      <td>3</td>\n",
       "      <td>7</td>\n",
       "    </tr>\n",
       "    <tr>\n",
       "      <th>top</th>\n",
       "      <td>Male</td>\n",
       "      <td>Yes</td>\n",
       "      <td>Yes</td>\n",
       "      <td>Artist</td>\n",
       "      <td>Low</td>\n",
       "      <td>Cat_6</td>\n",
       "    </tr>\n",
       "    <tr>\n",
       "      <th>freq</th>\n",
       "      <td>3677</td>\n",
       "      <td>3944</td>\n",
       "      <td>4249</td>\n",
       "      <td>2192</td>\n",
       "      <td>3999</td>\n",
       "      <td>4476</td>\n",
       "    </tr>\n",
       "  </tbody>\n",
       "</table>\n",
       "</div>"
      ],
      "text/plain": [
       "       Gender Ever_Married Graduated Profession Spending_Score  Var_1\n",
       "count    6665         6665      6665       6665           6665   6665\n",
       "unique      2            2         2          9              3      7\n",
       "top      Male          Yes       Yes     Artist            Low  Cat_6\n",
       "freq     3677         3944      4249       2192           3999   4476"
      ]
     },
     "execution_count": 11,
     "metadata": {},
     "output_type": "execute_result"
    }
   ],
   "source": [
    "train.describe(include='object')"
   ]
  },
  {
   "cell_type": "code",
   "execution_count": 12,
   "id": "cebe1b21",
   "metadata": {
    "execution": {
     "iopub.execute_input": "2024-11-27T13:17:05.469842Z",
     "iopub.status.busy": "2024-11-27T13:17:05.469445Z",
     "iopub.status.idle": "2024-11-27T13:17:05.480741Z",
     "shell.execute_reply": "2024-11-27T13:17:05.479669Z"
    },
    "papermill": {
     "duration": 0.02223,
     "end_time": "2024-11-27T13:17:05.482917",
     "exception": false,
     "start_time": "2024-11-27T13:17:05.460687",
     "status": "completed"
    },
    "tags": []
   },
   "outputs": [
    {
     "name": "stdout",
     "output_type": "stream",
     "text": [
      "(6665, 11) (2154, 10)\n",
      "(6665, 9) (2154, 9) (6665,)\n"
     ]
    }
   ],
   "source": [
    "print(train.shape,test.shape)\n",
    "train=train.drop('ID',axis=1)\n",
    "test_ID=test.pop('ID')\n",
    "target=train.pop('Segmentation')\n",
    "\n",
    "print(train.shape,test.shape,target.shape)\n"
   ]
  },
  {
   "cell_type": "code",
   "execution_count": 13,
   "id": "91e13ea1",
   "metadata": {
    "execution": {
     "iopub.execute_input": "2024-11-27T13:17:05.499592Z",
     "iopub.status.busy": "2024-11-27T13:17:05.499230Z",
     "iopub.status.idle": "2024-11-27T13:17:05.506177Z",
     "shell.execute_reply": "2024-11-27T13:17:05.505346Z"
    },
    "papermill": {
     "duration": 0.017561,
     "end_time": "2024-11-27T13:17:05.508121",
     "exception": false,
     "start_time": "2024-11-27T13:17:05.490560",
     "status": "completed"
    },
    "tags": []
   },
   "outputs": [],
   "source": [
    "#범주형/연속형 분리\n",
    "n_cols=train.select_dtypes(exclude='object').columns\n",
    "c_col=train.select_dtypes('object').columns"
   ]
  },
  {
   "cell_type": "code",
   "execution_count": 14,
   "id": "3379680f",
   "metadata": {
    "execution": {
     "iopub.execute_input": "2024-11-27T13:17:05.525204Z",
     "iopub.status.busy": "2024-11-27T13:17:05.524847Z",
     "iopub.status.idle": "2024-11-27T13:17:05.534041Z",
     "shell.execute_reply": "2024-11-27T13:17:05.532935Z"
    },
    "papermill": {
     "duration": 0.019684,
     "end_time": "2024-11-27T13:17:05.535867",
     "exception": false,
     "start_time": "2024-11-27T13:17:05.516183",
     "status": "completed"
    },
    "tags": []
   },
   "outputs": [
    {
     "name": "stdout",
     "output_type": "stream",
     "text": [
      "Index(['Gender', 'Ever_Married', 'Graduated', 'Profession', 'Spending_Score',\n",
      "       'Var_1'],\n",
      "      dtype='object')\n",
      "True\n"
     ]
    }
   ],
   "source": [
    "#범주형 카테고리 비교\n",
    "print(c_col)\n",
    "set_train=set(train[c_col])\n",
    "set_test=set(test[c_col])\n",
    "print(set_train==set_test)"
   ]
  },
  {
   "cell_type": "code",
   "execution_count": 15,
   "id": "4658fcef",
   "metadata": {
    "execution": {
     "iopub.execute_input": "2024-11-27T13:17:05.552659Z",
     "iopub.status.busy": "2024-11-27T13:17:05.552304Z",
     "iopub.status.idle": "2024-11-27T13:17:05.573295Z",
     "shell.execute_reply": "2024-11-27T13:17:05.572324Z"
    },
    "papermill": {
     "duration": 0.031816,
     "end_time": "2024-11-27T13:17:05.575408",
     "exception": false,
     "start_time": "2024-11-27T13:17:05.543592",
     "status": "completed"
    },
    "tags": []
   },
   "outputs": [
    {
     "data": {
      "text/html": [
       "<div>\n",
       "<style scoped>\n",
       "    .dataframe tbody tr th:only-of-type {\n",
       "        vertical-align: middle;\n",
       "    }\n",
       "\n",
       "    .dataframe tbody tr th {\n",
       "        vertical-align: top;\n",
       "    }\n",
       "\n",
       "    .dataframe thead th {\n",
       "        text-align: right;\n",
       "    }\n",
       "</style>\n",
       "<table border=\"1\" class=\"dataframe\">\n",
       "  <thead>\n",
       "    <tr style=\"text-align: right;\">\n",
       "      <th></th>\n",
       "      <th>Age</th>\n",
       "      <th>Work_Experience</th>\n",
       "      <th>Family_Size</th>\n",
       "    </tr>\n",
       "  </thead>\n",
       "  <tbody>\n",
       "    <tr>\n",
       "      <th>count</th>\n",
       "      <td>6665.000000</td>\n",
       "      <td>6665.000000</td>\n",
       "      <td>6665.000000</td>\n",
       "    </tr>\n",
       "    <tr>\n",
       "      <th>mean</th>\n",
       "      <td>43.536084</td>\n",
       "      <td>2.629107</td>\n",
       "      <td>2.841110</td>\n",
       "    </tr>\n",
       "    <tr>\n",
       "      <th>std</th>\n",
       "      <td>16.524054</td>\n",
       "      <td>3.405365</td>\n",
       "      <td>1.524743</td>\n",
       "    </tr>\n",
       "    <tr>\n",
       "      <th>min</th>\n",
       "      <td>18.000000</td>\n",
       "      <td>0.000000</td>\n",
       "      <td>1.000000</td>\n",
       "    </tr>\n",
       "    <tr>\n",
       "      <th>25%</th>\n",
       "      <td>31.000000</td>\n",
       "      <td>0.000000</td>\n",
       "      <td>2.000000</td>\n",
       "    </tr>\n",
       "    <tr>\n",
       "      <th>50%</th>\n",
       "      <td>41.000000</td>\n",
       "      <td>1.000000</td>\n",
       "      <td>2.000000</td>\n",
       "    </tr>\n",
       "    <tr>\n",
       "      <th>75%</th>\n",
       "      <td>53.000000</td>\n",
       "      <td>4.000000</td>\n",
       "      <td>4.000000</td>\n",
       "    </tr>\n",
       "    <tr>\n",
       "      <th>max</th>\n",
       "      <td>89.000000</td>\n",
       "      <td>14.000000</td>\n",
       "      <td>9.000000</td>\n",
       "    </tr>\n",
       "  </tbody>\n",
       "</table>\n",
       "</div>"
      ],
      "text/plain": [
       "               Age  Work_Experience  Family_Size\n",
       "count  6665.000000      6665.000000  6665.000000\n",
       "mean     43.536084         2.629107     2.841110\n",
       "std      16.524054         3.405365     1.524743\n",
       "min      18.000000         0.000000     1.000000\n",
       "25%      31.000000         0.000000     2.000000\n",
       "50%      41.000000         1.000000     2.000000\n",
       "75%      53.000000         4.000000     4.000000\n",
       "max      89.000000        14.000000     9.000000"
      ]
     },
     "execution_count": 15,
     "metadata": {},
     "output_type": "execute_result"
    }
   ],
   "source": [
    "train.describe(exclude='object')\n"
   ]
  },
  {
   "cell_type": "markdown",
   "id": "cc394e4f",
   "metadata": {
    "papermill": {
     "duration": 0.007631,
     "end_time": "2024-11-27T13:17:05.591104",
     "exception": false,
     "start_time": "2024-11-27T13:17:05.583473",
     "status": "completed"
    },
    "tags": []
   },
   "source": [
    "# preprocessing"
   ]
  },
  {
   "cell_type": "code",
   "execution_count": 16,
   "id": "0f76eb24",
   "metadata": {
    "execution": {
     "iopub.execute_input": "2024-11-27T13:17:05.608239Z",
     "iopub.status.busy": "2024-11-27T13:17:05.607889Z",
     "iopub.status.idle": "2024-11-27T13:17:06.979569Z",
     "shell.execute_reply": "2024-11-27T13:17:06.978419Z"
    },
    "papermill": {
     "duration": 1.382655,
     "end_time": "2024-11-27T13:17:06.981607",
     "exception": false,
     "start_time": "2024-11-27T13:17:05.598952",
     "status": "completed"
    },
    "tags": []
   },
   "outputs": [
    {
     "name": "stdout",
     "output_type": "stream",
     "text": [
      "Index(['Gender', 'Ever_Married', 'Graduated', 'Profession', 'Spending_Score',\n",
      "       'Var_1'],\n",
      "      dtype='object')\n"
     ]
    }
   ],
   "source": [
    "from sklearn.preprocessing import LabelEncoder\n",
    "print(c_col)\n",
    "for col in c_col:\n",
    "    encoder=LabelEncoder()\n",
    "    train[col]=encoder.fit_transform(train[col])\n",
    "    test[col]=encoder.transform(test[col])"
   ]
  },
  {
   "cell_type": "code",
   "execution_count": 17,
   "id": "e217bfec",
   "metadata": {
    "execution": {
     "iopub.execute_input": "2024-11-27T13:17:06.999319Z",
     "iopub.status.busy": "2024-11-27T13:17:06.998827Z",
     "iopub.status.idle": "2024-11-27T13:17:07.008694Z",
     "shell.execute_reply": "2024-11-27T13:17:07.007330Z"
    },
    "papermill": {
     "duration": 0.020923,
     "end_time": "2024-11-27T13:17:07.010755",
     "exception": false,
     "start_time": "2024-11-27T13:17:06.989832",
     "status": "completed"
    },
    "tags": []
   },
   "outputs": [
    {
     "name": "stdout",
     "output_type": "stream",
     "text": [
      "      Gender  Ever_Married  Graduated  Profession  Spending_Score  Var_1\n",
      "0          1             0          0           5               2      3\n",
      "1          0             1          1           2               2      5\n",
      "2          1             1          1           7               1      5\n",
      "3          1             1          0           0               0      5\n",
      "4          1             0          1           5               2      5\n",
      "...      ...           ...        ...         ...             ...    ...\n",
      "6660       1             1          1           0               1      5\n",
      "6661       1             0          0           4               2      3\n",
      "6662       0             0          1           5               2      5\n",
      "6663       0             0          1           5               2      5\n",
      "6664       1             1          1           4               0      3\n",
      "\n",
      "[6665 rows x 6 columns]\n"
     ]
    }
   ],
   "source": [
    "print(train[c_col])"
   ]
  },
  {
   "cell_type": "code",
   "execution_count": 18,
   "id": "da1eb2ae",
   "metadata": {
    "execution": {
     "iopub.execute_input": "2024-11-27T13:17:07.028652Z",
     "iopub.status.busy": "2024-11-27T13:17:07.028274Z",
     "iopub.status.idle": "2024-11-27T13:17:07.033012Z",
     "shell.execute_reply": "2024-11-27T13:17:07.031668Z"
    },
    "papermill": {
     "duration": 0.015887,
     "end_time": "2024-11-27T13:17:07.034938",
     "exception": false,
     "start_time": "2024-11-27T13:17:07.019051",
     "status": "completed"
    },
    "tags": []
   },
   "outputs": [],
   "source": [
    "# from sklearn.preprocessing import StandardScaler\n",
    "# print(n_cols)\n",
    "# scaler=StandardScaler()\n",
    "# train[n_cols]=scaler.fit_transform(train[n_cols])\n",
    "# test[n_cols]=scaler.transform(test[n_cols])\n"
   ]
  },
  {
   "cell_type": "code",
   "execution_count": 19,
   "id": "1471fd63",
   "metadata": {
    "execution": {
     "iopub.execute_input": "2024-11-27T13:17:07.053123Z",
     "iopub.status.busy": "2024-11-27T13:17:07.052149Z",
     "iopub.status.idle": "2024-11-27T13:17:07.061439Z",
     "shell.execute_reply": "2024-11-27T13:17:07.060299Z"
    },
    "papermill": {
     "duration": 0.020444,
     "end_time": "2024-11-27T13:17:07.063466",
     "exception": false,
     "start_time": "2024-11-27T13:17:07.043022",
     "status": "completed"
    },
    "tags": []
   },
   "outputs": [
    {
     "name": "stdout",
     "output_type": "stream",
     "text": [
      "      Age  Work_Experience  Family_Size\n",
      "0      22              1.0          4.0\n",
      "1      67              1.0          1.0\n",
      "2      67              0.0          2.0\n",
      "3      56              0.0          2.0\n",
      "4      32              1.0          3.0\n",
      "...   ...              ...          ...\n",
      "6660   41              0.0          5.0\n",
      "6661   35              3.0          4.0\n",
      "6662   33              1.0          1.0\n",
      "6663   27              1.0          4.0\n",
      "6664   37              0.0          3.0\n",
      "\n",
      "[6665 rows x 3 columns]\n"
     ]
    }
   ],
   "source": [
    "print(train[n_cols])"
   ]
  },
  {
   "cell_type": "markdown",
   "id": "2579567d",
   "metadata": {
    "papermill": {
     "duration": 0.007877,
     "end_time": "2024-11-27T13:17:07.081357",
     "exception": false,
     "start_time": "2024-11-27T13:17:07.073480",
     "status": "completed"
    },
    "tags": []
   },
   "source": [
    "# 4-1. modeling & validation"
   ]
  },
  {
   "cell_type": "code",
   "execution_count": 20,
   "id": "cea13450",
   "metadata": {
    "execution": {
     "iopub.execute_input": "2024-11-27T13:17:07.099982Z",
     "iopub.status.busy": "2024-11-27T13:17:07.099596Z",
     "iopub.status.idle": "2024-11-27T13:17:07.103950Z",
     "shell.execute_reply": "2024-11-27T13:17:07.102948Z"
    },
    "papermill": {
     "duration": 0.015727,
     "end_time": "2024-11-27T13:17:07.105812",
     "exception": false,
     "start_time": "2024-11-27T13:17:07.090085",
     "status": "completed"
    },
    "tags": []
   },
   "outputs": [],
   "source": [
    "# from sklearn.model_selection import train_test_split\n",
    "# X_tr,X_val,y_tr,y_val=train_test_split(train,target,random_state=0,test_size=0.2)\n",
    "# print(X_tr.shape,X_val.shape,y_tr.shape,y_val.shape)"
   ]
  },
  {
   "cell_type": "code",
   "execution_count": 21,
   "id": "74d8031f",
   "metadata": {
    "execution": {
     "iopub.execute_input": "2024-11-27T13:17:07.123397Z",
     "iopub.status.busy": "2024-11-27T13:17:07.123045Z",
     "iopub.status.idle": "2024-11-27T13:17:07.127872Z",
     "shell.execute_reply": "2024-11-27T13:17:07.126852Z"
    },
    "papermill": {
     "duration": 0.016224,
     "end_time": "2024-11-27T13:17:07.130080",
     "exception": false,
     "start_time": "2024-11-27T13:17:07.113856",
     "status": "completed"
    },
    "tags": []
   },
   "outputs": [],
   "source": [
    "# #랜덤포레스트\n",
    "# from sklearn.ensemble import RandomForestClassifier\n",
    "# from sklearn.metrics import f1_score\n",
    "\n",
    "# model=RandomForestClassifier(random_state=0,max_depth=5)\n",
    "# model.fit(X_tr,y_tr)\n",
    "# pred=model.predict(X_val)\n",
    "\n",
    "# f1_score(y_val,pred,average='macro')\n",
    "\n",
    "# #baseline(c_label): 0.4945825363183669\n",
    "# # max_depth=5 :0.5326068181508793\n",
    "# # max_depth=7 :0.5395063890042223\n",
    "# # max_depth=7,n_estimators=200 : 0.5436560895063142\n",
    "# #c_label,n_label:0.49413909943188705"
   ]
  },
  {
   "cell_type": "code",
   "execution_count": 22,
   "id": "c92e1c34",
   "metadata": {
    "execution": {
     "iopub.execute_input": "2024-11-27T13:17:07.148263Z",
     "iopub.status.busy": "2024-11-27T13:17:07.147913Z",
     "iopub.status.idle": "2024-11-27T13:17:07.152565Z",
     "shell.execute_reply": "2024-11-27T13:17:07.151483Z"
    },
    "papermill": {
     "duration": 0.016331,
     "end_time": "2024-11-27T13:17:07.154597",
     "exception": false,
     "start_time": "2024-11-27T13:17:07.138266",
     "status": "completed"
    },
    "tags": []
   },
   "outputs": [],
   "source": [
    "# #로지스틱 회귀\n",
    "# from sklearn.linear_model import LogisticRegression\n",
    "# lr=LogisticRegression()\n",
    "# lr.fit(X_tr,y_tr)\n",
    "# pred=lr.predict(X_val)\n",
    "# f1_score(y_val,pred,average='macro')\n"
   ]
  },
  {
   "cell_type": "code",
   "execution_count": 23,
   "id": "4e0a4622",
   "metadata": {
    "execution": {
     "iopub.execute_input": "2024-11-27T13:17:07.172965Z",
     "iopub.status.busy": "2024-11-27T13:17:07.172565Z",
     "iopub.status.idle": "2024-11-27T13:17:07.177032Z",
     "shell.execute_reply": "2024-11-27T13:17:07.176029Z"
    },
    "papermill": {
     "duration": 0.01594,
     "end_time": "2024-11-27T13:17:07.179065",
     "exception": false,
     "start_time": "2024-11-27T13:17:07.163125",
     "status": "completed"
    },
    "tags": []
   },
   "outputs": [],
   "source": [
    "# #lightgbm\n",
    "# import lightgbm as lgb \n",
    "# model=lgb.LGBMClassifier(random_state=0,num_leaves=5,min_data_in_leaf=5,max_depth=3)\n",
    "# model.fit(X_tr,y_tr)\n",
    "# pred=lgb.predict(X_val)\n",
    "# f1_score(y_val,pred,average='macro')\n",
    "# #base: 0.5227625161214081\n",
    "# #max_depth=5: 0.5308812966904689\n",
    "# #max_depth=3: 0.5323138449853055\n",
    "# #max_depth=3,n_estimators=200,learning_rate=0.05:0.5359637699898496\n",
    "\n",
    "# #num_leaves=5 : 0.5371827354333298\n",
    "# #random_state=0,num_leaves=5,min_data_in_leaf=5,max_depth=3 :0.5380026415649495"
   ]
  },
  {
   "cell_type": "markdown",
   "id": "882b6028",
   "metadata": {
    "papermill": {
     "duration": 0.007834,
     "end_time": "2024-11-27T13:17:07.195418",
     "exception": false,
     "start_time": "2024-11-27T13:17:07.187584",
     "status": "completed"
    },
    "tags": []
   },
   "source": [
    "# 5-2 cross validation score"
   ]
  },
  {
   "cell_type": "code",
   "execution_count": 24,
   "id": "1f10924d",
   "metadata": {
    "execution": {
     "iopub.execute_input": "2024-11-27T13:17:07.213167Z",
     "iopub.status.busy": "2024-11-27T13:17:07.212741Z",
     "iopub.status.idle": "2024-11-27T13:17:07.691911Z",
     "shell.execute_reply": "2024-11-27T13:17:07.691044Z"
    },
    "papermill": {
     "duration": 0.490761,
     "end_time": "2024-11-27T13:17:07.694219",
     "exception": false,
     "start_time": "2024-11-27T13:17:07.203458",
     "status": "completed"
    },
    "tags": []
   },
   "outputs": [],
   "source": [
    "from sklearn.ensemble import RandomForestClassifier\n",
    "model=RandomForestClassifier(random_state=0,max_depth=5,n_estimators=200)"
   ]
  },
  {
   "cell_type": "code",
   "execution_count": 25,
   "id": "91e0ebd7",
   "metadata": {
    "execution": {
     "iopub.execute_input": "2024-11-27T13:17:07.712438Z",
     "iopub.status.busy": "2024-11-27T13:17:07.712053Z",
     "iopub.status.idle": "2024-11-27T13:17:11.761242Z",
     "shell.execute_reply": "2024-11-27T13:17:11.760188Z"
    },
    "papermill": {
     "duration": 4.060591,
     "end_time": "2024-11-27T13:17:11.763218",
     "exception": false,
     "start_time": "2024-11-27T13:17:07.702627",
     "status": "completed"
    },
    "tags": []
   },
   "outputs": [
    {
     "name": "stdout",
     "output_type": "stream",
     "text": [
      "0.5131991083313926\n"
     ]
    },
    {
     "data": {
      "text/html": [
       "<style>#sk-container-id-1 {color: black;background-color: white;}#sk-container-id-1 pre{padding: 0;}#sk-container-id-1 div.sk-toggleable {background-color: white;}#sk-container-id-1 label.sk-toggleable__label {cursor: pointer;display: block;width: 100%;margin-bottom: 0;padding: 0.3em;box-sizing: border-box;text-align: center;}#sk-container-id-1 label.sk-toggleable__label-arrow:before {content: \"▸\";float: left;margin-right: 0.25em;color: #696969;}#sk-container-id-1 label.sk-toggleable__label-arrow:hover:before {color: black;}#sk-container-id-1 div.sk-estimator:hover label.sk-toggleable__label-arrow:before {color: black;}#sk-container-id-1 div.sk-toggleable__content {max-height: 0;max-width: 0;overflow: hidden;text-align: left;background-color: #f0f8ff;}#sk-container-id-1 div.sk-toggleable__content pre {margin: 0.2em;color: black;border-radius: 0.25em;background-color: #f0f8ff;}#sk-container-id-1 input.sk-toggleable__control:checked~div.sk-toggleable__content {max-height: 200px;max-width: 100%;overflow: auto;}#sk-container-id-1 input.sk-toggleable__control:checked~label.sk-toggleable__label-arrow:before {content: \"▾\";}#sk-container-id-1 div.sk-estimator input.sk-toggleable__control:checked~label.sk-toggleable__label {background-color: #d4ebff;}#sk-container-id-1 div.sk-label input.sk-toggleable__control:checked~label.sk-toggleable__label {background-color: #d4ebff;}#sk-container-id-1 input.sk-hidden--visually {border: 0;clip: rect(1px 1px 1px 1px);clip: rect(1px, 1px, 1px, 1px);height: 1px;margin: -1px;overflow: hidden;padding: 0;position: absolute;width: 1px;}#sk-container-id-1 div.sk-estimator {font-family: monospace;background-color: #f0f8ff;border: 1px dotted black;border-radius: 0.25em;box-sizing: border-box;margin-bottom: 0.5em;}#sk-container-id-1 div.sk-estimator:hover {background-color: #d4ebff;}#sk-container-id-1 div.sk-parallel-item::after {content: \"\";width: 100%;border-bottom: 1px solid gray;flex-grow: 1;}#sk-container-id-1 div.sk-label:hover label.sk-toggleable__label {background-color: #d4ebff;}#sk-container-id-1 div.sk-serial::before {content: \"\";position: absolute;border-left: 1px solid gray;box-sizing: border-box;top: 0;bottom: 0;left: 50%;z-index: 0;}#sk-container-id-1 div.sk-serial {display: flex;flex-direction: column;align-items: center;background-color: white;padding-right: 0.2em;padding-left: 0.2em;position: relative;}#sk-container-id-1 div.sk-item {position: relative;z-index: 1;}#sk-container-id-1 div.sk-parallel {display: flex;align-items: stretch;justify-content: center;background-color: white;position: relative;}#sk-container-id-1 div.sk-item::before, #sk-container-id-1 div.sk-parallel-item::before {content: \"\";position: absolute;border-left: 1px solid gray;box-sizing: border-box;top: 0;bottom: 0;left: 50%;z-index: -1;}#sk-container-id-1 div.sk-parallel-item {display: flex;flex-direction: column;z-index: 1;position: relative;background-color: white;}#sk-container-id-1 div.sk-parallel-item:first-child::after {align-self: flex-end;width: 50%;}#sk-container-id-1 div.sk-parallel-item:last-child::after {align-self: flex-start;width: 50%;}#sk-container-id-1 div.sk-parallel-item:only-child::after {width: 0;}#sk-container-id-1 div.sk-dashed-wrapped {border: 1px dashed gray;margin: 0 0.4em 0.5em 0.4em;box-sizing: border-box;padding-bottom: 0.4em;background-color: white;}#sk-container-id-1 div.sk-label label {font-family: monospace;font-weight: bold;display: inline-block;line-height: 1.2em;}#sk-container-id-1 div.sk-label-container {text-align: center;}#sk-container-id-1 div.sk-container {/* jupyter's `normalize.less` sets `[hidden] { display: none; }` but bootstrap.min.css set `[hidden] { display: none !important; }` so we also need the `!important` here to be able to override the default hidden behavior on the sphinx rendered scikit-learn.org. See: https://github.com/scikit-learn/scikit-learn/issues/21755 */display: inline-block !important;position: relative;}#sk-container-id-1 div.sk-text-repr-fallback {display: none;}</style><div id=\"sk-container-id-1\" class=\"sk-top-container\"><div class=\"sk-text-repr-fallback\"><pre>RandomForestClassifier(max_depth=5, n_estimators=200, random_state=0)</pre><b>In a Jupyter environment, please rerun this cell to show the HTML representation or trust the notebook. <br />On GitHub, the HTML representation is unable to render, please try loading this page with nbviewer.org.</b></div><div class=\"sk-container\" hidden><div class=\"sk-item\"><div class=\"sk-estimator sk-toggleable\"><input class=\"sk-toggleable__control sk-hidden--visually\" id=\"sk-estimator-id-1\" type=\"checkbox\" checked><label for=\"sk-estimator-id-1\" class=\"sk-toggleable__label sk-toggleable__label-arrow\">RandomForestClassifier</label><div class=\"sk-toggleable__content\"><pre>RandomForestClassifier(max_depth=5, n_estimators=200, random_state=0)</pre></div></div></div></div></div>"
      ],
      "text/plain": [
       "RandomForestClassifier(max_depth=5, n_estimators=200, random_state=0)"
      ]
     },
     "execution_count": 25,
     "metadata": {},
     "output_type": "execute_result"
    }
   ],
   "source": [
    "from sklearn.model_selection import cross_val_score\n",
    "scores=cross_val_score(model,train,target,scoring='f1_macro',cv=5)\n",
    "print(scores.mean())\n",
    "model.fit(train,target)\n",
    "#base:0.4849572060458728\n",
    "#max_depth=5:0.513226905318416\n",
    "#max_depth=7:0.5232864245431778\n",
    "#max_depth=7,n_estimators=200 : 0.522217418628954"
   ]
  },
  {
   "cell_type": "code",
   "execution_count": 26,
   "id": "618e169d",
   "metadata": {
    "execution": {
     "iopub.execute_input": "2024-11-27T13:17:11.781273Z",
     "iopub.status.busy": "2024-11-27T13:17:11.780902Z",
     "iopub.status.idle": "2024-11-27T13:17:11.785026Z",
     "shell.execute_reply": "2024-11-27T13:17:11.784093Z"
    },
    "papermill": {
     "duration": 0.015325,
     "end_time": "2024-11-27T13:17:11.786900",
     "exception": false,
     "start_time": "2024-11-27T13:17:11.771575",
     "status": "completed"
    },
    "tags": []
   },
   "outputs": [],
   "source": [
    "# import lightgbm as lbm\n",
    "# model=lbm.LGBMClassifier(random_state=0)"
   ]
  },
  {
   "cell_type": "code",
   "execution_count": 27,
   "id": "d76c81d4",
   "metadata": {
    "execution": {
     "iopub.execute_input": "2024-11-27T13:17:11.804985Z",
     "iopub.status.busy": "2024-11-27T13:17:11.804352Z",
     "iopub.status.idle": "2024-11-27T13:17:11.808793Z",
     "shell.execute_reply": "2024-11-27T13:17:11.807736Z"
    },
    "papermill": {
     "duration": 0.015598,
     "end_time": "2024-11-27T13:17:11.810753",
     "exception": false,
     "start_time": "2024-11-27T13:17:11.795155",
     "status": "completed"
    },
    "tags": []
   },
   "outputs": [],
   "source": [
    "# from sklearn.model_selection import cross_val_score\n",
    "# scores=cross_val_score(model,train,target,scoring='f1_macro',cv=5)\n",
    "# print(scores.mean())\n",
    "\n",
    "# # base:0.5096142541494979\n",
    "# #maxdepth=5: 0.5224605736850922\n",
    "# #maxdepth=3: 0.5274208795764617\n",
    "# #n_estimate=200,learning_rate=0.05: 0.5230830521789648"
   ]
  },
  {
   "cell_type": "code",
   "execution_count": 28,
   "id": "e1e25c5a",
   "metadata": {
    "execution": {
     "iopub.execute_input": "2024-11-27T13:17:11.828723Z",
     "iopub.status.busy": "2024-11-27T13:17:11.828357Z",
     "iopub.status.idle": "2024-11-27T13:17:11.832828Z",
     "shell.execute_reply": "2024-11-27T13:17:11.831980Z"
    },
    "papermill": {
     "duration": 0.015852,
     "end_time": "2024-11-27T13:17:11.834915",
     "exception": false,
     "start_time": "2024-11-27T13:17:11.819063",
     "status": "completed"
    },
    "tags": []
   },
   "outputs": [],
   "source": [
    "# model.fit(train,target)"
   ]
  },
  {
   "cell_type": "markdown",
   "id": "7b912bd0",
   "metadata": {
    "papermill": {
     "duration": 0.007804,
     "end_time": "2024-11-27T13:17:11.850921",
     "exception": false,
     "start_time": "2024-11-27T13:17:11.843117",
     "status": "completed"
    },
    "tags": []
   },
   "source": [
    "# 6. data submit"
   ]
  },
  {
   "cell_type": "code",
   "execution_count": 29,
   "id": "de6aad0f",
   "metadata": {
    "execution": {
     "iopub.execute_input": "2024-11-27T13:17:11.868956Z",
     "iopub.status.busy": "2024-11-27T13:17:11.868545Z",
     "iopub.status.idle": "2024-11-27T13:17:11.931177Z",
     "shell.execute_reply": "2024-11-27T13:17:11.929946Z"
    },
    "papermill": {
     "duration": 0.074231,
     "end_time": "2024-11-27T13:17:11.933379",
     "exception": false,
     "start_time": "2024-11-27T13:17:11.859148",
     "status": "completed"
    },
    "tags": []
   },
   "outputs": [
    {
     "name": "stdout",
     "output_type": "stream",
     "text": [
      "          ID  Segmentation\n",
      "0     458989             1\n",
      "1     458994             3\n",
      "2     459000             2\n",
      "3     459003             2\n",
      "4     459005             1\n",
      "...      ...           ...\n",
      "2149  467950             1\n",
      "2150  467954             4\n",
      "2151  467958             1\n",
      "2152  467961             2\n",
      "2153  467968             4\n",
      "\n",
      "[2154 rows x 2 columns]\n"
     ]
    }
   ],
   "source": [
    "pred=model.predict(test)\n",
    "submit=pd.DataFrame(\n",
    "    {\n",
    "        'ID':test_ID,\n",
    "        'Segmentation':pred\n",
    "    }\n",
    ")\n",
    "print(submit)"
   ]
  },
  {
   "cell_type": "code",
   "execution_count": 30,
   "id": "5223d303",
   "metadata": {
    "execution": {
     "iopub.execute_input": "2024-11-27T13:17:11.951528Z",
     "iopub.status.busy": "2024-11-27T13:17:11.951184Z",
     "iopub.status.idle": "2024-11-27T13:17:11.967157Z",
     "shell.execute_reply": "2024-11-27T13:17:11.966073Z"
    },
    "papermill": {
     "duration": 0.027479,
     "end_time": "2024-11-27T13:17:11.969203",
     "exception": false,
     "start_time": "2024-11-27T13:17:11.941724",
     "status": "completed"
    },
    "tags": []
   },
   "outputs": [
    {
     "data": {
      "text/html": [
       "<div>\n",
       "<style scoped>\n",
       "    .dataframe tbody tr th:only-of-type {\n",
       "        vertical-align: middle;\n",
       "    }\n",
       "\n",
       "    .dataframe tbody tr th {\n",
       "        vertical-align: top;\n",
       "    }\n",
       "\n",
       "    .dataframe thead th {\n",
       "        text-align: right;\n",
       "    }\n",
       "</style>\n",
       "<table border=\"1\" class=\"dataframe\">\n",
       "  <thead>\n",
       "    <tr style=\"text-align: right;\">\n",
       "      <th></th>\n",
       "      <th>ID</th>\n",
       "      <th>Segmentation</th>\n",
       "    </tr>\n",
       "  </thead>\n",
       "  <tbody>\n",
       "    <tr>\n",
       "      <th>0</th>\n",
       "      <td>458989</td>\n",
       "      <td>1</td>\n",
       "    </tr>\n",
       "    <tr>\n",
       "      <th>1</th>\n",
       "      <td>458994</td>\n",
       "      <td>3</td>\n",
       "    </tr>\n",
       "    <tr>\n",
       "      <th>2</th>\n",
       "      <td>459000</td>\n",
       "      <td>2</td>\n",
       "    </tr>\n",
       "    <tr>\n",
       "      <th>3</th>\n",
       "      <td>459003</td>\n",
       "      <td>2</td>\n",
       "    </tr>\n",
       "    <tr>\n",
       "      <th>4</th>\n",
       "      <td>459005</td>\n",
       "      <td>1</td>\n",
       "    </tr>\n",
       "    <tr>\n",
       "      <th>...</th>\n",
       "      <td>...</td>\n",
       "      <td>...</td>\n",
       "    </tr>\n",
       "    <tr>\n",
       "      <th>2149</th>\n",
       "      <td>467950</td>\n",
       "      <td>1</td>\n",
       "    </tr>\n",
       "    <tr>\n",
       "      <th>2150</th>\n",
       "      <td>467954</td>\n",
       "      <td>4</td>\n",
       "    </tr>\n",
       "    <tr>\n",
       "      <th>2151</th>\n",
       "      <td>467958</td>\n",
       "      <td>1</td>\n",
       "    </tr>\n",
       "    <tr>\n",
       "      <th>2152</th>\n",
       "      <td>467961</td>\n",
       "      <td>2</td>\n",
       "    </tr>\n",
       "    <tr>\n",
       "      <th>2153</th>\n",
       "      <td>467968</td>\n",
       "      <td>4</td>\n",
       "    </tr>\n",
       "  </tbody>\n",
       "</table>\n",
       "<p>2154 rows × 2 columns</p>\n",
       "</div>"
      ],
      "text/plain": [
       "          ID  Segmentation\n",
       "0     458989             1\n",
       "1     458994             3\n",
       "2     459000             2\n",
       "3     459003             2\n",
       "4     459005             1\n",
       "...      ...           ...\n",
       "2149  467950             1\n",
       "2150  467954             4\n",
       "2151  467958             1\n",
       "2152  467961             2\n",
       "2153  467968             4\n",
       "\n",
       "[2154 rows x 2 columns]"
      ]
     },
     "execution_count": 30,
     "metadata": {},
     "output_type": "execute_result"
    }
   ],
   "source": [
    "submit.to_csv('result4_2.csv',index=False)\n",
    "pd.read_csv('result4_2.csv')"
   ]
  },
  {
   "cell_type": "code",
   "execution_count": null,
   "id": "c3c6c290",
   "metadata": {
    "papermill": {
     "duration": 0.008423,
     "end_time": "2024-11-27T13:17:11.986423",
     "exception": false,
     "start_time": "2024-11-27T13:17:11.978000",
     "status": "completed"
    },
    "tags": []
   },
   "outputs": [],
   "source": []
  },
  {
   "cell_type": "code",
   "execution_count": null,
   "id": "9fff63f6",
   "metadata": {
    "papermill": {
     "duration": 0.008191,
     "end_time": "2024-11-27T13:17:12.003170",
     "exception": false,
     "start_time": "2024-11-27T13:17:11.994979",
     "status": "completed"
    },
    "tags": []
   },
   "outputs": [],
   "source": []
  }
 ],
 "metadata": {
  "kaggle": {
   "accelerator": "none",
   "dataSources": [
    {
     "databundleVersionId": 4530214,
     "sourceId": 37407,
     "sourceType": "competition"
    }
   ],
   "dockerImageVersionId": 30786,
   "isGpuEnabled": false,
   "isInternetEnabled": true,
   "language": "python",
   "sourceType": "notebook"
  },
  "kernelspec": {
   "display_name": "Python 3",
   "language": "python",
   "name": "python3"
  },
  "language_info": {
   "codemirror_mode": {
    "name": "ipython",
    "version": 3
   },
   "file_extension": ".py",
   "mimetype": "text/x-python",
   "name": "python",
   "nbconvert_exporter": "python",
   "pygments_lexer": "ipython3",
   "version": "3.10.14"
  },
  "papermill": {
   "default_parameters": {},
   "duration": 11.048,
   "end_time": "2024-11-27T13:17:12.632456",
   "environment_variables": {},
   "exception": null,
   "input_path": "__notebook__.ipynb",
   "output_path": "__notebook__.ipynb",
   "parameters": {},
   "start_time": "2024-11-27T13:17:01.584456",
   "version": "2.6.0"
  }
 },
 "nbformat": 4,
 "nbformat_minor": 5
}
