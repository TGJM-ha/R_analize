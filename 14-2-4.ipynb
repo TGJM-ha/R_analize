{
 "cells": [
  {
   "cell_type": "code",
   "execution_count": 1,
   "id": "fb9255d4",
   "metadata": {
    "_cell_guid": "b1076dfc-b9ad-4769-8c92-a6c4dae69d19",
    "_uuid": "8f2839f25d086af736a60e9eeb907d3b93b6e0e5",
    "execution": {
     "iopub.execute_input": "2024-11-27T13:20:52.896401Z",
     "iopub.status.busy": "2024-11-27T13:20:52.896027Z",
     "iopub.status.idle": "2024-11-27T13:20:53.716985Z",
     "shell.execute_reply": "2024-11-27T13:20:53.715986Z"
    },
    "papermill": {
     "duration": 0.832952,
     "end_time": "2024-11-27T13:20:53.720058",
     "exception": false,
     "start_time": "2024-11-27T13:20:52.887106",
     "status": "completed"
    },
    "tags": []
   },
   "outputs": [
    {
     "name": "stdout",
     "output_type": "stream",
     "text": [
      "/kaggle/input/big-data-analytics-certification-kr-2022/nf.csv\n",
      "/kaggle/input/big-data-analytics-certification-kr-2022/train.csv\n",
      "/kaggle/input/big-data-analytics-certification-kr-2022/test.csv\n",
      "/kaggle/input/big-data-analytics-certification-kr-2022/fb.csv\n"
     ]
    }
   ],
   "source": [
    "# This Python 3 environment comes with many helpful analytics libraries installed\n",
    "# It is defined by the kaggle/python Docker image: https://github.com/kaggle/docker-python\n",
    "# For example, here's several helpful packages to load\n",
    "\n",
    "import numpy as np # linear algebra\n",
    "import pandas as pd # data processing, CSV file I/O (e.g. pd.read_csv)\n",
    "\n",
    "# Input data files are available in the read-only \"../input/\" directory\n",
    "# For example, running this (by clicking run or pressing Shift+Enter) will list all files under the input directory\n",
    "\n",
    "import os\n",
    "for dirname, _, filenames in os.walk('/kaggle/input'):\n",
    "    for filename in filenames:\n",
    "        print(os.path.join(dirname, filename))\n",
    "\n",
    "# You can write up to 20GB to the current directory (/kaggle/working/) that gets preserved as output when you create a version using \"Save & Run All\" \n",
    "# You can also write temporary files to /kaggle/temp/, but they won't be saved outside of the current session"
   ]
  },
  {
   "cell_type": "code",
   "execution_count": 2,
   "id": "5c650df0",
   "metadata": {
    "execution": {
     "iopub.execute_input": "2024-11-27T13:20:53.737560Z",
     "iopub.status.busy": "2024-11-27T13:20:53.736335Z",
     "iopub.status.idle": "2024-11-27T13:20:53.778204Z",
     "shell.execute_reply": "2024-11-27T13:20:53.777300Z"
    },
    "papermill": {
     "duration": 0.052721,
     "end_time": "2024-11-27T13:20:53.780521",
     "exception": false,
     "start_time": "2024-11-27T13:20:53.727800",
     "status": "completed"
    },
    "tags": []
   },
   "outputs": [],
   "source": [
    "train=pd.read_csv('/kaggle/input/big-data-analytics-certification-kr-2022/train.csv')\n",
    "test=pd.read_csv('/kaggle/input/big-data-analytics-certification-kr-2022/test.csv')"
   ]
  },
  {
   "cell_type": "code",
   "execution_count": 3,
   "id": "cf498b35",
   "metadata": {
    "execution": {
     "iopub.execute_input": "2024-11-27T13:20:53.796023Z",
     "iopub.status.busy": "2024-11-27T13:20:53.795039Z",
     "iopub.status.idle": "2024-11-27T13:20:53.800804Z",
     "shell.execute_reply": "2024-11-27T13:20:53.799659Z"
    },
    "papermill": {
     "duration": 0.015578,
     "end_time": "2024-11-27T13:20:53.802790",
     "exception": false,
     "start_time": "2024-11-27T13:20:53.787212",
     "status": "completed"
    },
    "tags": []
   },
   "outputs": [
    {
     "name": "stdout",
     "output_type": "stream",
     "text": [
      "(6665, 11) (2154, 10)\n"
     ]
    }
   ],
   "source": [
    "print(train.shape,test.shape)"
   ]
  },
  {
   "cell_type": "code",
   "execution_count": 4,
   "id": "c686435a",
   "metadata": {
    "execution": {
     "iopub.execute_input": "2024-11-27T13:20:53.819145Z",
     "iopub.status.busy": "2024-11-27T13:20:53.818355Z",
     "iopub.status.idle": "2024-11-27T13:20:53.842980Z",
     "shell.execute_reply": "2024-11-27T13:20:53.841965Z"
    },
    "papermill": {
     "duration": 0.035497,
     "end_time": "2024-11-27T13:20:53.845115",
     "exception": false,
     "start_time": "2024-11-27T13:20:53.809618",
     "status": "completed"
    },
    "tags": []
   },
   "outputs": [
    {
     "data": {
      "text/html": [
       "<div>\n",
       "<style scoped>\n",
       "    .dataframe tbody tr th:only-of-type {\n",
       "        vertical-align: middle;\n",
       "    }\n",
       "\n",
       "    .dataframe tbody tr th {\n",
       "        vertical-align: top;\n",
       "    }\n",
       "\n",
       "    .dataframe thead th {\n",
       "        text-align: right;\n",
       "    }\n",
       "</style>\n",
       "<table border=\"1\" class=\"dataframe\">\n",
       "  <thead>\n",
       "    <tr style=\"text-align: right;\">\n",
       "      <th></th>\n",
       "      <th>ID</th>\n",
       "      <th>Gender</th>\n",
       "      <th>Ever_Married</th>\n",
       "      <th>Age</th>\n",
       "      <th>Graduated</th>\n",
       "      <th>Profession</th>\n",
       "      <th>Work_Experience</th>\n",
       "      <th>Spending_Score</th>\n",
       "      <th>Family_Size</th>\n",
       "      <th>Var_1</th>\n",
       "      <th>Segmentation</th>\n",
       "    </tr>\n",
       "  </thead>\n",
       "  <tbody>\n",
       "    <tr>\n",
       "      <th>0</th>\n",
       "      <td>462809</td>\n",
       "      <td>Male</td>\n",
       "      <td>No</td>\n",
       "      <td>22</td>\n",
       "      <td>No</td>\n",
       "      <td>Healthcare</td>\n",
       "      <td>1.0</td>\n",
       "      <td>Low</td>\n",
       "      <td>4.0</td>\n",
       "      <td>Cat_4</td>\n",
       "      <td>4</td>\n",
       "    </tr>\n",
       "    <tr>\n",
       "      <th>1</th>\n",
       "      <td>466315</td>\n",
       "      <td>Female</td>\n",
       "      <td>Yes</td>\n",
       "      <td>67</td>\n",
       "      <td>Yes</td>\n",
       "      <td>Engineer</td>\n",
       "      <td>1.0</td>\n",
       "      <td>Low</td>\n",
       "      <td>1.0</td>\n",
       "      <td>Cat_6</td>\n",
       "      <td>2</td>\n",
       "    </tr>\n",
       "    <tr>\n",
       "      <th>2</th>\n",
       "      <td>461735</td>\n",
       "      <td>Male</td>\n",
       "      <td>Yes</td>\n",
       "      <td>67</td>\n",
       "      <td>Yes</td>\n",
       "      <td>Lawyer</td>\n",
       "      <td>0.0</td>\n",
       "      <td>High</td>\n",
       "      <td>2.0</td>\n",
       "      <td>Cat_6</td>\n",
       "      <td>2</td>\n",
       "    </tr>\n",
       "    <tr>\n",
       "      <th>3</th>\n",
       "      <td>461319</td>\n",
       "      <td>Male</td>\n",
       "      <td>Yes</td>\n",
       "      <td>56</td>\n",
       "      <td>No</td>\n",
       "      <td>Artist</td>\n",
       "      <td>0.0</td>\n",
       "      <td>Average</td>\n",
       "      <td>2.0</td>\n",
       "      <td>Cat_6</td>\n",
       "      <td>3</td>\n",
       "    </tr>\n",
       "    <tr>\n",
       "      <th>4</th>\n",
       "      <td>460156</td>\n",
       "      <td>Male</td>\n",
       "      <td>No</td>\n",
       "      <td>32</td>\n",
       "      <td>Yes</td>\n",
       "      <td>Healthcare</td>\n",
       "      <td>1.0</td>\n",
       "      <td>Low</td>\n",
       "      <td>3.0</td>\n",
       "      <td>Cat_6</td>\n",
       "      <td>3</td>\n",
       "    </tr>\n",
       "  </tbody>\n",
       "</table>\n",
       "</div>"
      ],
      "text/plain": [
       "       ID  Gender Ever_Married  Age Graduated  Profession  Work_Experience  \\\n",
       "0  462809    Male           No   22        No  Healthcare              1.0   \n",
       "1  466315  Female          Yes   67       Yes    Engineer              1.0   \n",
       "2  461735    Male          Yes   67       Yes      Lawyer              0.0   \n",
       "3  461319    Male          Yes   56        No      Artist              0.0   \n",
       "4  460156    Male           No   32       Yes  Healthcare              1.0   \n",
       "\n",
       "  Spending_Score  Family_Size  Var_1  Segmentation  \n",
       "0            Low          4.0  Cat_4             4  \n",
       "1            Low          1.0  Cat_6             2  \n",
       "2           High          2.0  Cat_6             2  \n",
       "3        Average          2.0  Cat_6             3  \n",
       "4            Low          3.0  Cat_6             3  "
      ]
     },
     "execution_count": 4,
     "metadata": {},
     "output_type": "execute_result"
    }
   ],
   "source": [
    "train.head()"
   ]
  },
  {
   "cell_type": "code",
   "execution_count": 5,
   "id": "0fae37a6",
   "metadata": {
    "execution": {
     "iopub.execute_input": "2024-11-27T13:20:53.860845Z",
     "iopub.status.busy": "2024-11-27T13:20:53.859921Z",
     "iopub.status.idle": "2024-11-27T13:20:53.874130Z",
     "shell.execute_reply": "2024-11-27T13:20:53.873073Z"
    },
    "papermill": {
     "duration": 0.024219,
     "end_time": "2024-11-27T13:20:53.876305",
     "exception": false,
     "start_time": "2024-11-27T13:20:53.852086",
     "status": "completed"
    },
    "tags": []
   },
   "outputs": [
    {
     "data": {
      "text/html": [
       "<div>\n",
       "<style scoped>\n",
       "    .dataframe tbody tr th:only-of-type {\n",
       "        vertical-align: middle;\n",
       "    }\n",
       "\n",
       "    .dataframe tbody tr th {\n",
       "        vertical-align: top;\n",
       "    }\n",
       "\n",
       "    .dataframe thead th {\n",
       "        text-align: right;\n",
       "    }\n",
       "</style>\n",
       "<table border=\"1\" class=\"dataframe\">\n",
       "  <thead>\n",
       "    <tr style=\"text-align: right;\">\n",
       "      <th></th>\n",
       "      <th>ID</th>\n",
       "      <th>Gender</th>\n",
       "      <th>Ever_Married</th>\n",
       "      <th>Age</th>\n",
       "      <th>Graduated</th>\n",
       "      <th>Profession</th>\n",
       "      <th>Work_Experience</th>\n",
       "      <th>Spending_Score</th>\n",
       "      <th>Family_Size</th>\n",
       "      <th>Var_1</th>\n",
       "    </tr>\n",
       "  </thead>\n",
       "  <tbody>\n",
       "    <tr>\n",
       "      <th>0</th>\n",
       "      <td>458989</td>\n",
       "      <td>Female</td>\n",
       "      <td>Yes</td>\n",
       "      <td>36</td>\n",
       "      <td>Yes</td>\n",
       "      <td>Engineer</td>\n",
       "      <td>0.0</td>\n",
       "      <td>Low</td>\n",
       "      <td>1.0</td>\n",
       "      <td>Cat_6</td>\n",
       "    </tr>\n",
       "    <tr>\n",
       "      <th>1</th>\n",
       "      <td>458994</td>\n",
       "      <td>Male</td>\n",
       "      <td>Yes</td>\n",
       "      <td>37</td>\n",
       "      <td>Yes</td>\n",
       "      <td>Healthcare</td>\n",
       "      <td>8.0</td>\n",
       "      <td>Average</td>\n",
       "      <td>4.0</td>\n",
       "      <td>Cat_6</td>\n",
       "    </tr>\n",
       "    <tr>\n",
       "      <th>2</th>\n",
       "      <td>459000</td>\n",
       "      <td>Male</td>\n",
       "      <td>Yes</td>\n",
       "      <td>59</td>\n",
       "      <td>No</td>\n",
       "      <td>Executive</td>\n",
       "      <td>11.0</td>\n",
       "      <td>High</td>\n",
       "      <td>2.0</td>\n",
       "      <td>Cat_6</td>\n",
       "    </tr>\n",
       "    <tr>\n",
       "      <th>3</th>\n",
       "      <td>459003</td>\n",
       "      <td>Male</td>\n",
       "      <td>Yes</td>\n",
       "      <td>47</td>\n",
       "      <td>Yes</td>\n",
       "      <td>Doctor</td>\n",
       "      <td>0.0</td>\n",
       "      <td>High</td>\n",
       "      <td>5.0</td>\n",
       "      <td>Cat_4</td>\n",
       "    </tr>\n",
       "    <tr>\n",
       "      <th>4</th>\n",
       "      <td>459005</td>\n",
       "      <td>Male</td>\n",
       "      <td>Yes</td>\n",
       "      <td>61</td>\n",
       "      <td>Yes</td>\n",
       "      <td>Doctor</td>\n",
       "      <td>5.0</td>\n",
       "      <td>Low</td>\n",
       "      <td>3.0</td>\n",
       "      <td>Cat_6</td>\n",
       "    </tr>\n",
       "  </tbody>\n",
       "</table>\n",
       "</div>"
      ],
      "text/plain": [
       "       ID  Gender Ever_Married  Age Graduated  Profession  Work_Experience  \\\n",
       "0  458989  Female          Yes   36       Yes    Engineer              0.0   \n",
       "1  458994    Male          Yes   37       Yes  Healthcare              8.0   \n",
       "2  459000    Male          Yes   59        No   Executive             11.0   \n",
       "3  459003    Male          Yes   47       Yes      Doctor              0.0   \n",
       "4  459005    Male          Yes   61       Yes      Doctor              5.0   \n",
       "\n",
       "  Spending_Score  Family_Size  Var_1  \n",
       "0            Low          1.0  Cat_6  \n",
       "1        Average          4.0  Cat_6  \n",
       "2           High          2.0  Cat_6  \n",
       "3           High          5.0  Cat_4  \n",
       "4            Low          3.0  Cat_6  "
      ]
     },
     "execution_count": 5,
     "metadata": {},
     "output_type": "execute_result"
    }
   ],
   "source": [
    "test.head()"
   ]
  },
  {
   "cell_type": "code",
   "execution_count": 6,
   "id": "fd5a5514",
   "metadata": {
    "execution": {
     "iopub.execute_input": "2024-11-27T13:20:53.892574Z",
     "iopub.status.busy": "2024-11-27T13:20:53.891674Z",
     "iopub.status.idle": "2024-11-27T13:20:53.905583Z",
     "shell.execute_reply": "2024-11-27T13:20:53.904642Z"
    },
    "papermill": {
     "duration": 0.024359,
     "end_time": "2024-11-27T13:20:53.907773",
     "exception": false,
     "start_time": "2024-11-27T13:20:53.883414",
     "status": "completed"
    },
    "tags": []
   },
   "outputs": [
    {
     "data": {
      "text/plain": [
       "Segmentation\n",
       "4    1757\n",
       "3    1720\n",
       "1    1616\n",
       "2    1572\n",
       "Name: count, dtype: int64"
      ]
     },
     "execution_count": 6,
     "metadata": {},
     "output_type": "execute_result"
    }
   ],
   "source": [
    "train['Segmentation'].value_counts()"
   ]
  },
  {
   "cell_type": "code",
   "execution_count": 7,
   "id": "97d82cea",
   "metadata": {
    "execution": {
     "iopub.execute_input": "2024-11-27T13:20:53.923850Z",
     "iopub.status.busy": "2024-11-27T13:20:53.923468Z",
     "iopub.status.idle": "2024-11-27T13:20:53.934437Z",
     "shell.execute_reply": "2024-11-27T13:20:53.933454Z"
    },
    "papermill": {
     "duration": 0.021567,
     "end_time": "2024-11-27T13:20:53.936623",
     "exception": false,
     "start_time": "2024-11-27T13:20:53.915056",
     "status": "completed"
    },
    "tags": []
   },
   "outputs": [
    {
     "data": {
      "text/plain": [
       "ID                 0\n",
       "Gender             0\n",
       "Ever_Married       0\n",
       "Age                0\n",
       "Graduated          0\n",
       "Profession         0\n",
       "Work_Experience    0\n",
       "Spending_Score     0\n",
       "Family_Size        0\n",
       "Var_1              0\n",
       "Segmentation       0\n",
       "dtype: int64"
      ]
     },
     "execution_count": 7,
     "metadata": {},
     "output_type": "execute_result"
    }
   ],
   "source": [
    "train.isna().sum()"
   ]
  },
  {
   "cell_type": "code",
   "execution_count": 8,
   "id": "580c2ddd",
   "metadata": {
    "execution": {
     "iopub.execute_input": "2024-11-27T13:20:53.952860Z",
     "iopub.status.busy": "2024-11-27T13:20:53.952488Z",
     "iopub.status.idle": "2024-11-27T13:20:53.962401Z",
     "shell.execute_reply": "2024-11-27T13:20:53.961321Z"
    },
    "papermill": {
     "duration": 0.020587,
     "end_time": "2024-11-27T13:20:53.964440",
     "exception": false,
     "start_time": "2024-11-27T13:20:53.943853",
     "status": "completed"
    },
    "tags": []
   },
   "outputs": [
    {
     "data": {
      "text/plain": [
       "ID                 0\n",
       "Gender             0\n",
       "Ever_Married       0\n",
       "Age                0\n",
       "Graduated          0\n",
       "Profession         0\n",
       "Work_Experience    0\n",
       "Spending_Score     0\n",
       "Family_Size        0\n",
       "Var_1              0\n",
       "dtype: int64"
      ]
     },
     "execution_count": 8,
     "metadata": {},
     "output_type": "execute_result"
    }
   ],
   "source": [
    "test.isna().sum()\n"
   ]
  },
  {
   "cell_type": "code",
   "execution_count": 9,
   "id": "3259b179",
   "metadata": {
    "execution": {
     "iopub.execute_input": "2024-11-27T13:20:53.981176Z",
     "iopub.status.busy": "2024-11-27T13:20:53.980311Z",
     "iopub.status.idle": "2024-11-27T13:20:54.002611Z",
     "shell.execute_reply": "2024-11-27T13:20:54.001646Z"
    },
    "papermill": {
     "duration": 0.033063,
     "end_time": "2024-11-27T13:20:54.004837",
     "exception": false,
     "start_time": "2024-11-27T13:20:53.971774",
     "status": "completed"
    },
    "tags": []
   },
   "outputs": [
    {
     "name": "stdout",
     "output_type": "stream",
     "text": [
      "<class 'pandas.core.frame.DataFrame'>\n",
      "RangeIndex: 6665 entries, 0 to 6664\n",
      "Data columns (total 11 columns):\n",
      " #   Column           Non-Null Count  Dtype  \n",
      "---  ------           --------------  -----  \n",
      " 0   ID               6665 non-null   int64  \n",
      " 1   Gender           6665 non-null   object \n",
      " 2   Ever_Married     6665 non-null   object \n",
      " 3   Age              6665 non-null   int64  \n",
      " 4   Graduated        6665 non-null   object \n",
      " 5   Profession       6665 non-null   object \n",
      " 6   Work_Experience  6665 non-null   float64\n",
      " 7   Spending_Score   6665 non-null   object \n",
      " 8   Family_Size      6665 non-null   float64\n",
      " 9   Var_1            6665 non-null   object \n",
      " 10  Segmentation     6665 non-null   int64  \n",
      "dtypes: float64(2), int64(3), object(6)\n",
      "memory usage: 572.9+ KB\n"
     ]
    }
   ],
   "source": [
    "train.info()"
   ]
  },
  {
   "cell_type": "code",
   "execution_count": 10,
   "id": "59846b6e",
   "metadata": {
    "execution": {
     "iopub.execute_input": "2024-11-27T13:20:54.021733Z",
     "iopub.status.busy": "2024-11-27T13:20:54.020839Z",
     "iopub.status.idle": "2024-11-27T13:20:54.032273Z",
     "shell.execute_reply": "2024-11-27T13:20:54.031267Z"
    },
    "papermill": {
     "duration": 0.022559,
     "end_time": "2024-11-27T13:20:54.034912",
     "exception": false,
     "start_time": "2024-11-27T13:20:54.012353",
     "status": "completed"
    },
    "tags": []
   },
   "outputs": [
    {
     "name": "stdout",
     "output_type": "stream",
     "text": [
      "<class 'pandas.core.frame.DataFrame'>\n",
      "RangeIndex: 2154 entries, 0 to 2153\n",
      "Data columns (total 10 columns):\n",
      " #   Column           Non-Null Count  Dtype  \n",
      "---  ------           --------------  -----  \n",
      " 0   ID               2154 non-null   int64  \n",
      " 1   Gender           2154 non-null   object \n",
      " 2   Ever_Married     2154 non-null   object \n",
      " 3   Age              2154 non-null   int64  \n",
      " 4   Graduated        2154 non-null   object \n",
      " 5   Profession       2154 non-null   object \n",
      " 6   Work_Experience  2154 non-null   float64\n",
      " 7   Spending_Score   2154 non-null   object \n",
      " 8   Family_Size      2154 non-null   float64\n",
      " 9   Var_1            2154 non-null   object \n",
      "dtypes: float64(2), int64(2), object(6)\n",
      "memory usage: 168.4+ KB\n"
     ]
    }
   ],
   "source": [
    "test.info()\n"
   ]
  },
  {
   "cell_type": "code",
   "execution_count": 11,
   "id": "0cdae74e",
   "metadata": {
    "execution": {
     "iopub.execute_input": "2024-11-27T13:20:54.052983Z",
     "iopub.status.busy": "2024-11-27T13:20:54.052202Z",
     "iopub.status.idle": "2024-11-27T13:20:54.076497Z",
     "shell.execute_reply": "2024-11-27T13:20:54.075379Z"
    },
    "papermill": {
     "duration": 0.035887,
     "end_time": "2024-11-27T13:20:54.078677",
     "exception": false,
     "start_time": "2024-11-27T13:20:54.042790",
     "status": "completed"
    },
    "tags": []
   },
   "outputs": [
    {
     "data": {
      "text/html": [
       "<div>\n",
       "<style scoped>\n",
       "    .dataframe tbody tr th:only-of-type {\n",
       "        vertical-align: middle;\n",
       "    }\n",
       "\n",
       "    .dataframe tbody tr th {\n",
       "        vertical-align: top;\n",
       "    }\n",
       "\n",
       "    .dataframe thead th {\n",
       "        text-align: right;\n",
       "    }\n",
       "</style>\n",
       "<table border=\"1\" class=\"dataframe\">\n",
       "  <thead>\n",
       "    <tr style=\"text-align: right;\">\n",
       "      <th></th>\n",
       "      <th>Gender</th>\n",
       "      <th>Ever_Married</th>\n",
       "      <th>Graduated</th>\n",
       "      <th>Profession</th>\n",
       "      <th>Spending_Score</th>\n",
       "      <th>Var_1</th>\n",
       "    </tr>\n",
       "  </thead>\n",
       "  <tbody>\n",
       "    <tr>\n",
       "      <th>count</th>\n",
       "      <td>6665</td>\n",
       "      <td>6665</td>\n",
       "      <td>6665</td>\n",
       "      <td>6665</td>\n",
       "      <td>6665</td>\n",
       "      <td>6665</td>\n",
       "    </tr>\n",
       "    <tr>\n",
       "      <th>unique</th>\n",
       "      <td>2</td>\n",
       "      <td>2</td>\n",
       "      <td>2</td>\n",
       "      <td>9</td>\n",
       "      <td>3</td>\n",
       "      <td>7</td>\n",
       "    </tr>\n",
       "    <tr>\n",
       "      <th>top</th>\n",
       "      <td>Male</td>\n",
       "      <td>Yes</td>\n",
       "      <td>Yes</td>\n",
       "      <td>Artist</td>\n",
       "      <td>Low</td>\n",
       "      <td>Cat_6</td>\n",
       "    </tr>\n",
       "    <tr>\n",
       "      <th>freq</th>\n",
       "      <td>3677</td>\n",
       "      <td>3944</td>\n",
       "      <td>4249</td>\n",
       "      <td>2192</td>\n",
       "      <td>3999</td>\n",
       "      <td>4476</td>\n",
       "    </tr>\n",
       "  </tbody>\n",
       "</table>\n",
       "</div>"
      ],
      "text/plain": [
       "       Gender Ever_Married Graduated Profession Spending_Score  Var_1\n",
       "count    6665         6665      6665       6665           6665   6665\n",
       "unique      2            2         2          9              3      7\n",
       "top      Male          Yes       Yes     Artist            Low  Cat_6\n",
       "freq     3677         3944      4249       2192           3999   4476"
      ]
     },
     "execution_count": 11,
     "metadata": {},
     "output_type": "execute_result"
    }
   ],
   "source": [
    "train.describe(include='object')"
   ]
  },
  {
   "cell_type": "code",
   "execution_count": 12,
   "id": "4cb80329",
   "metadata": {
    "execution": {
     "iopub.execute_input": "2024-11-27T13:20:54.096920Z",
     "iopub.status.busy": "2024-11-27T13:20:54.095695Z",
     "iopub.status.idle": "2024-11-27T13:20:54.107386Z",
     "shell.execute_reply": "2024-11-27T13:20:54.106361Z"
    },
    "papermill": {
     "duration": 0.022713,
     "end_time": "2024-11-27T13:20:54.109414",
     "exception": false,
     "start_time": "2024-11-27T13:20:54.086701",
     "status": "completed"
    },
    "tags": []
   },
   "outputs": [
    {
     "name": "stdout",
     "output_type": "stream",
     "text": [
      "(6665, 11) (2154, 10)\n",
      "(6665, 9) (2154, 9) (6665,)\n"
     ]
    }
   ],
   "source": [
    "print(train.shape,test.shape)\n",
    "train=train.drop('ID',axis=1)\n",
    "test_ID=test.pop('ID')\n",
    "target=train.pop('Segmentation')\n",
    "\n",
    "print(train.shape,test.shape,target.shape)\n"
   ]
  },
  {
   "cell_type": "code",
   "execution_count": 13,
   "id": "4d6e098f",
   "metadata": {
    "execution": {
     "iopub.execute_input": "2024-11-27T13:20:54.127077Z",
     "iopub.status.busy": "2024-11-27T13:20:54.126154Z",
     "iopub.status.idle": "2024-11-27T13:20:54.133358Z",
     "shell.execute_reply": "2024-11-27T13:20:54.132476Z"
    },
    "papermill": {
     "duration": 0.018239,
     "end_time": "2024-11-27T13:20:54.135449",
     "exception": false,
     "start_time": "2024-11-27T13:20:54.117210",
     "status": "completed"
    },
    "tags": []
   },
   "outputs": [],
   "source": [
    "#범주형/연속형 분리\n",
    "n_cols=train.select_dtypes(exclude='object').columns\n",
    "c_col=train.select_dtypes('object').columns"
   ]
  },
  {
   "cell_type": "code",
   "execution_count": 14,
   "id": "7b68f5b9",
   "metadata": {
    "execution": {
     "iopub.execute_input": "2024-11-27T13:20:54.153036Z",
     "iopub.status.busy": "2024-11-27T13:20:54.152375Z",
     "iopub.status.idle": "2024-11-27T13:20:54.161282Z",
     "shell.execute_reply": "2024-11-27T13:20:54.160343Z"
    },
    "papermill": {
     "duration": 0.020861,
     "end_time": "2024-11-27T13:20:54.164081",
     "exception": false,
     "start_time": "2024-11-27T13:20:54.143220",
     "status": "completed"
    },
    "tags": []
   },
   "outputs": [
    {
     "name": "stdout",
     "output_type": "stream",
     "text": [
      "Index(['Gender', 'Ever_Married', 'Graduated', 'Profession', 'Spending_Score',\n",
      "       'Var_1'],\n",
      "      dtype='object')\n",
      "True\n"
     ]
    }
   ],
   "source": [
    "#범주형 카테고리 비교\n",
    "print(c_col)\n",
    "set_train=set(train[c_col])\n",
    "set_test=set(test[c_col])\n",
    "print(set_train==set_test)"
   ]
  },
  {
   "cell_type": "code",
   "execution_count": 15,
   "id": "a1723693",
   "metadata": {
    "execution": {
     "iopub.execute_input": "2024-11-27T13:20:54.181624Z",
     "iopub.status.busy": "2024-11-27T13:20:54.180797Z",
     "iopub.status.idle": "2024-11-27T13:20:54.202038Z",
     "shell.execute_reply": "2024-11-27T13:20:54.200939Z"
    },
    "papermill": {
     "duration": 0.032403,
     "end_time": "2024-11-27T13:20:54.204276",
     "exception": false,
     "start_time": "2024-11-27T13:20:54.171873",
     "status": "completed"
    },
    "tags": []
   },
   "outputs": [
    {
     "data": {
      "text/html": [
       "<div>\n",
       "<style scoped>\n",
       "    .dataframe tbody tr th:only-of-type {\n",
       "        vertical-align: middle;\n",
       "    }\n",
       "\n",
       "    .dataframe tbody tr th {\n",
       "        vertical-align: top;\n",
       "    }\n",
       "\n",
       "    .dataframe thead th {\n",
       "        text-align: right;\n",
       "    }\n",
       "</style>\n",
       "<table border=\"1\" class=\"dataframe\">\n",
       "  <thead>\n",
       "    <tr style=\"text-align: right;\">\n",
       "      <th></th>\n",
       "      <th>Age</th>\n",
       "      <th>Work_Experience</th>\n",
       "      <th>Family_Size</th>\n",
       "    </tr>\n",
       "  </thead>\n",
       "  <tbody>\n",
       "    <tr>\n",
       "      <th>count</th>\n",
       "      <td>6665.000000</td>\n",
       "      <td>6665.000000</td>\n",
       "      <td>6665.000000</td>\n",
       "    </tr>\n",
       "    <tr>\n",
       "      <th>mean</th>\n",
       "      <td>43.536084</td>\n",
       "      <td>2.629107</td>\n",
       "      <td>2.841110</td>\n",
       "    </tr>\n",
       "    <tr>\n",
       "      <th>std</th>\n",
       "      <td>16.524054</td>\n",
       "      <td>3.405365</td>\n",
       "      <td>1.524743</td>\n",
       "    </tr>\n",
       "    <tr>\n",
       "      <th>min</th>\n",
       "      <td>18.000000</td>\n",
       "      <td>0.000000</td>\n",
       "      <td>1.000000</td>\n",
       "    </tr>\n",
       "    <tr>\n",
       "      <th>25%</th>\n",
       "      <td>31.000000</td>\n",
       "      <td>0.000000</td>\n",
       "      <td>2.000000</td>\n",
       "    </tr>\n",
       "    <tr>\n",
       "      <th>50%</th>\n",
       "      <td>41.000000</td>\n",
       "      <td>1.000000</td>\n",
       "      <td>2.000000</td>\n",
       "    </tr>\n",
       "    <tr>\n",
       "      <th>75%</th>\n",
       "      <td>53.000000</td>\n",
       "      <td>4.000000</td>\n",
       "      <td>4.000000</td>\n",
       "    </tr>\n",
       "    <tr>\n",
       "      <th>max</th>\n",
       "      <td>89.000000</td>\n",
       "      <td>14.000000</td>\n",
       "      <td>9.000000</td>\n",
       "    </tr>\n",
       "  </tbody>\n",
       "</table>\n",
       "</div>"
      ],
      "text/plain": [
       "               Age  Work_Experience  Family_Size\n",
       "count  6665.000000      6665.000000  6665.000000\n",
       "mean     43.536084         2.629107     2.841110\n",
       "std      16.524054         3.405365     1.524743\n",
       "min      18.000000         0.000000     1.000000\n",
       "25%      31.000000         0.000000     2.000000\n",
       "50%      41.000000         1.000000     2.000000\n",
       "75%      53.000000         4.000000     4.000000\n",
       "max      89.000000        14.000000     9.000000"
      ]
     },
     "execution_count": 15,
     "metadata": {},
     "output_type": "execute_result"
    }
   ],
   "source": [
    "train.describe(exclude='object')\n"
   ]
  },
  {
   "cell_type": "markdown",
   "id": "f7eaa30f",
   "metadata": {
    "papermill": {
     "duration": 0.008022,
     "end_time": "2024-11-27T13:20:54.220607",
     "exception": false,
     "start_time": "2024-11-27T13:20:54.212585",
     "status": "completed"
    },
    "tags": []
   },
   "source": [
    "# preprocessing"
   ]
  },
  {
   "cell_type": "code",
   "execution_count": 16,
   "id": "dba4dd2a",
   "metadata": {
    "execution": {
     "iopub.execute_input": "2024-11-27T13:20:54.238752Z",
     "iopub.status.busy": "2024-11-27T13:20:54.238375Z",
     "iopub.status.idle": "2024-11-27T13:20:55.442091Z",
     "shell.execute_reply": "2024-11-27T13:20:55.441092Z"
    },
    "papermill": {
     "duration": 1.215813,
     "end_time": "2024-11-27T13:20:55.444488",
     "exception": false,
     "start_time": "2024-11-27T13:20:54.228675",
     "status": "completed"
    },
    "tags": []
   },
   "outputs": [
    {
     "name": "stdout",
     "output_type": "stream",
     "text": [
      "Index(['Gender', 'Ever_Married', 'Graduated', 'Profession', 'Spending_Score',\n",
      "       'Var_1'],\n",
      "      dtype='object')\n"
     ]
    }
   ],
   "source": [
    "from sklearn.preprocessing import LabelEncoder\n",
    "print(c_col)\n",
    "for col in c_col:\n",
    "    encoder=LabelEncoder()\n",
    "    train[col]=encoder.fit_transform(train[col])\n",
    "    test[col]=encoder.transform(test[col])"
   ]
  },
  {
   "cell_type": "code",
   "execution_count": 17,
   "id": "5b88e79b",
   "metadata": {
    "execution": {
     "iopub.execute_input": "2024-11-27T13:20:55.462642Z",
     "iopub.status.busy": "2024-11-27T13:20:55.461537Z",
     "iopub.status.idle": "2024-11-27T13:20:55.470879Z",
     "shell.execute_reply": "2024-11-27T13:20:55.469751Z"
    },
    "papermill": {
     "duration": 0.020826,
     "end_time": "2024-11-27T13:20:55.473200",
     "exception": false,
     "start_time": "2024-11-27T13:20:55.452374",
     "status": "completed"
    },
    "tags": []
   },
   "outputs": [
    {
     "name": "stdout",
     "output_type": "stream",
     "text": [
      "      Gender  Ever_Married  Graduated  Profession  Spending_Score  Var_1\n",
      "0          1             0          0           5               2      3\n",
      "1          0             1          1           2               2      5\n",
      "2          1             1          1           7               1      5\n",
      "3          1             1          0           0               0      5\n",
      "4          1             0          1           5               2      5\n",
      "...      ...           ...        ...         ...             ...    ...\n",
      "6660       1             1          1           0               1      5\n",
      "6661       1             0          0           4               2      3\n",
      "6662       0             0          1           5               2      5\n",
      "6663       0             0          1           5               2      5\n",
      "6664       1             1          1           4               0      3\n",
      "\n",
      "[6665 rows x 6 columns]\n"
     ]
    }
   ],
   "source": [
    "print(train[c_col])"
   ]
  },
  {
   "cell_type": "code",
   "execution_count": 18,
   "id": "3c93bbc3",
   "metadata": {
    "execution": {
     "iopub.execute_input": "2024-11-27T13:20:55.491600Z",
     "iopub.status.busy": "2024-11-27T13:20:55.490693Z",
     "iopub.status.idle": "2024-11-27T13:20:55.495048Z",
     "shell.execute_reply": "2024-11-27T13:20:55.494075Z"
    },
    "papermill": {
     "duration": 0.015882,
     "end_time": "2024-11-27T13:20:55.497049",
     "exception": false,
     "start_time": "2024-11-27T13:20:55.481167",
     "status": "completed"
    },
    "tags": []
   },
   "outputs": [],
   "source": [
    "# from sklearn.preprocessing import StandardScaler\n",
    "# print(n_cols)\n",
    "# scaler=StandardScaler()\n",
    "# train[n_cols]=scaler.fit_transform(train[n_cols])\n",
    "# test[n_cols]=scaler.transform(test[n_cols])\n"
   ]
  },
  {
   "cell_type": "code",
   "execution_count": 19,
   "id": "64ab8c16",
   "metadata": {
    "execution": {
     "iopub.execute_input": "2024-11-27T13:20:55.515374Z",
     "iopub.status.busy": "2024-11-27T13:20:55.514444Z",
     "iopub.status.idle": "2024-11-27T13:20:55.524240Z",
     "shell.execute_reply": "2024-11-27T13:20:55.523062Z"
    },
    "papermill": {
     "duration": 0.021211,
     "end_time": "2024-11-27T13:20:55.526394",
     "exception": false,
     "start_time": "2024-11-27T13:20:55.505183",
     "status": "completed"
    },
    "tags": []
   },
   "outputs": [
    {
     "name": "stdout",
     "output_type": "stream",
     "text": [
      "      Age  Work_Experience  Family_Size\n",
      "0      22              1.0          4.0\n",
      "1      67              1.0          1.0\n",
      "2      67              0.0          2.0\n",
      "3      56              0.0          2.0\n",
      "4      32              1.0          3.0\n",
      "...   ...              ...          ...\n",
      "6660   41              0.0          5.0\n",
      "6661   35              3.0          4.0\n",
      "6662   33              1.0          1.0\n",
      "6663   27              1.0          4.0\n",
      "6664   37              0.0          3.0\n",
      "\n",
      "[6665 rows x 3 columns]\n"
     ]
    }
   ],
   "source": [
    "print(train[n_cols])"
   ]
  },
  {
   "cell_type": "markdown",
   "id": "7761f3c1",
   "metadata": {
    "papermill": {
     "duration": 0.007829,
     "end_time": "2024-11-27T13:20:55.542576",
     "exception": false,
     "start_time": "2024-11-27T13:20:55.534747",
     "status": "completed"
    },
    "tags": []
   },
   "source": [
    "# 4-1. modeling & validation"
   ]
  },
  {
   "cell_type": "code",
   "execution_count": 20,
   "id": "356a7137",
   "metadata": {
    "execution": {
     "iopub.execute_input": "2024-11-27T13:20:55.560615Z",
     "iopub.status.busy": "2024-11-27T13:20:55.559702Z",
     "iopub.status.idle": "2024-11-27T13:20:55.564044Z",
     "shell.execute_reply": "2024-11-27T13:20:55.562978Z"
    },
    "papermill": {
     "duration": 0.015539,
     "end_time": "2024-11-27T13:20:55.566049",
     "exception": false,
     "start_time": "2024-11-27T13:20:55.550510",
     "status": "completed"
    },
    "tags": []
   },
   "outputs": [],
   "source": [
    "# from sklearn.model_selection import train_test_split\n",
    "# X_tr,X_val,y_tr,y_val=train_test_split(train,target,random_state=0,test_size=0.2)\n",
    "# print(X_tr.shape,X_val.shape,y_tr.shape,y_val.shape)"
   ]
  },
  {
   "cell_type": "code",
   "execution_count": 21,
   "id": "753d50dc",
   "metadata": {
    "execution": {
     "iopub.execute_input": "2024-11-27T13:20:55.583949Z",
     "iopub.status.busy": "2024-11-27T13:20:55.583510Z",
     "iopub.status.idle": "2024-11-27T13:20:55.588054Z",
     "shell.execute_reply": "2024-11-27T13:20:55.587045Z"
    },
    "papermill": {
     "duration": 0.015978,
     "end_time": "2024-11-27T13:20:55.590201",
     "exception": false,
     "start_time": "2024-11-27T13:20:55.574223",
     "status": "completed"
    },
    "tags": []
   },
   "outputs": [],
   "source": [
    "# #랜덤포레스트\n",
    "# from sklearn.ensemble import RandomForestClassifier\n",
    "# from sklearn.metrics import f1_score\n",
    "\n",
    "# model=RandomForestClassifier(random_state=0,max_depth=5)\n",
    "# model.fit(X_tr,y_tr)\n",
    "# pred=model.predict(X_val)\n",
    "\n",
    "# f1_score(y_val,pred,average='macro')\n",
    "\n",
    "# #baseline(c_label): 0.4945825363183669\n",
    "# # max_depth=5 :0.5326068181508793\n",
    "# # max_depth=7 :0.5395063890042223\n",
    "# # max_depth=7,n_estimators=200 : 0.5436560895063142\n",
    "# #c_label,n_label:0.49413909943188705"
   ]
  },
  {
   "cell_type": "code",
   "execution_count": 22,
   "id": "6f4081b1",
   "metadata": {
    "execution": {
     "iopub.execute_input": "2024-11-27T13:20:55.608077Z",
     "iopub.status.busy": "2024-11-27T13:20:55.607675Z",
     "iopub.status.idle": "2024-11-27T13:20:55.611865Z",
     "shell.execute_reply": "2024-11-27T13:20:55.610925Z"
    },
    "papermill": {
     "duration": 0.015457,
     "end_time": "2024-11-27T13:20:55.613846",
     "exception": false,
     "start_time": "2024-11-27T13:20:55.598389",
     "status": "completed"
    },
    "tags": []
   },
   "outputs": [],
   "source": [
    "# #로지스틱 회귀\n",
    "# from sklearn.linear_model import LogisticRegression\n",
    "# lr=LogisticRegression()\n",
    "# lr.fit(X_tr,y_tr)\n",
    "# pred=lr.predict(X_val)\n",
    "# f1_score(y_val,pred,average='macro')\n"
   ]
  },
  {
   "cell_type": "code",
   "execution_count": 23,
   "id": "52647099",
   "metadata": {
    "execution": {
     "iopub.execute_input": "2024-11-27T13:20:55.632568Z",
     "iopub.status.busy": "2024-11-27T13:20:55.632031Z",
     "iopub.status.idle": "2024-11-27T13:20:55.636774Z",
     "shell.execute_reply": "2024-11-27T13:20:55.635821Z"
    },
    "papermill": {
     "duration": 0.016686,
     "end_time": "2024-11-27T13:20:55.638705",
     "exception": false,
     "start_time": "2024-11-27T13:20:55.622019",
     "status": "completed"
    },
    "tags": []
   },
   "outputs": [],
   "source": [
    "# #lightgbm\n",
    "# import lightgbm as lgb \n",
    "# model=lgb.LGBMClassifier(random_state=0,num_leaves=5,min_data_in_leaf=5,max_depth=3)\n",
    "# model.fit(X_tr,y_tr)\n",
    "# pred=lgb.predict(X_val)\n",
    "# f1_score(y_val,pred,average='macro')\n",
    "# #base: 0.5227625161214081\n",
    "# #max_depth=5: 0.5308812966904689\n",
    "# #max_depth=3: 0.5323138449853055\n",
    "# #max_depth=3,n_estimators=200,learning_rate=0.05:0.5359637699898496\n",
    "\n",
    "# #num_leaves=5 : 0.5371827354333298\n",
    "# #random_state=0,num_leaves=5,min_data_in_leaf=5,max_depth=3 :0.5380026415649495"
   ]
  },
  {
   "cell_type": "markdown",
   "id": "754c3ae1",
   "metadata": {
    "papermill": {
     "duration": 0.007951,
     "end_time": "2024-11-27T13:20:55.655554",
     "exception": false,
     "start_time": "2024-11-27T13:20:55.647603",
     "status": "completed"
    },
    "tags": []
   },
   "source": [
    "# 5-2 cross validation score"
   ]
  },
  {
   "cell_type": "code",
   "execution_count": 24,
   "id": "61d58d1d",
   "metadata": {
    "execution": {
     "iopub.execute_input": "2024-11-27T13:20:55.673422Z",
     "iopub.status.busy": "2024-11-27T13:20:55.673048Z",
     "iopub.status.idle": "2024-11-27T13:20:56.102480Z",
     "shell.execute_reply": "2024-11-27T13:20:56.101533Z"
    },
    "papermill": {
     "duration": 0.441453,
     "end_time": "2024-11-27T13:20:56.105066",
     "exception": false,
     "start_time": "2024-11-27T13:20:55.663613",
     "status": "completed"
    },
    "tags": []
   },
   "outputs": [],
   "source": [
    "from sklearn.ensemble import RandomForestClassifier\n",
    "model=RandomForestClassifier(random_state=2023,max_depth=5)"
   ]
  },
  {
   "cell_type": "code",
   "execution_count": 25,
   "id": "257b3276",
   "metadata": {
    "execution": {
     "iopub.execute_input": "2024-11-27T13:20:56.123115Z",
     "iopub.status.busy": "2024-11-27T13:20:56.122693Z",
     "iopub.status.idle": "2024-11-27T13:20:58.198308Z",
     "shell.execute_reply": "2024-11-27T13:20:58.197192Z"
    },
    "papermill": {
     "duration": 2.087203,
     "end_time": "2024-11-27T13:20:58.200605",
     "exception": false,
     "start_time": "2024-11-27T13:20:56.113402",
     "status": "completed"
    },
    "tags": []
   },
   "outputs": [
    {
     "name": "stdout",
     "output_type": "stream",
     "text": [
      "0.5069976541056308\n"
     ]
    },
    {
     "data": {
      "text/html": [
       "<style>#sk-container-id-1 {color: black;background-color: white;}#sk-container-id-1 pre{padding: 0;}#sk-container-id-1 div.sk-toggleable {background-color: white;}#sk-container-id-1 label.sk-toggleable__label {cursor: pointer;display: block;width: 100%;margin-bottom: 0;padding: 0.3em;box-sizing: border-box;text-align: center;}#sk-container-id-1 label.sk-toggleable__label-arrow:before {content: \"▸\";float: left;margin-right: 0.25em;color: #696969;}#sk-container-id-1 label.sk-toggleable__label-arrow:hover:before {color: black;}#sk-container-id-1 div.sk-estimator:hover label.sk-toggleable__label-arrow:before {color: black;}#sk-container-id-1 div.sk-toggleable__content {max-height: 0;max-width: 0;overflow: hidden;text-align: left;background-color: #f0f8ff;}#sk-container-id-1 div.sk-toggleable__content pre {margin: 0.2em;color: black;border-radius: 0.25em;background-color: #f0f8ff;}#sk-container-id-1 input.sk-toggleable__control:checked~div.sk-toggleable__content {max-height: 200px;max-width: 100%;overflow: auto;}#sk-container-id-1 input.sk-toggleable__control:checked~label.sk-toggleable__label-arrow:before {content: \"▾\";}#sk-container-id-1 div.sk-estimator input.sk-toggleable__control:checked~label.sk-toggleable__label {background-color: #d4ebff;}#sk-container-id-1 div.sk-label input.sk-toggleable__control:checked~label.sk-toggleable__label {background-color: #d4ebff;}#sk-container-id-1 input.sk-hidden--visually {border: 0;clip: rect(1px 1px 1px 1px);clip: rect(1px, 1px, 1px, 1px);height: 1px;margin: -1px;overflow: hidden;padding: 0;position: absolute;width: 1px;}#sk-container-id-1 div.sk-estimator {font-family: monospace;background-color: #f0f8ff;border: 1px dotted black;border-radius: 0.25em;box-sizing: border-box;margin-bottom: 0.5em;}#sk-container-id-1 div.sk-estimator:hover {background-color: #d4ebff;}#sk-container-id-1 div.sk-parallel-item::after {content: \"\";width: 100%;border-bottom: 1px solid gray;flex-grow: 1;}#sk-container-id-1 div.sk-label:hover label.sk-toggleable__label {background-color: #d4ebff;}#sk-container-id-1 div.sk-serial::before {content: \"\";position: absolute;border-left: 1px solid gray;box-sizing: border-box;top: 0;bottom: 0;left: 50%;z-index: 0;}#sk-container-id-1 div.sk-serial {display: flex;flex-direction: column;align-items: center;background-color: white;padding-right: 0.2em;padding-left: 0.2em;position: relative;}#sk-container-id-1 div.sk-item {position: relative;z-index: 1;}#sk-container-id-1 div.sk-parallel {display: flex;align-items: stretch;justify-content: center;background-color: white;position: relative;}#sk-container-id-1 div.sk-item::before, #sk-container-id-1 div.sk-parallel-item::before {content: \"\";position: absolute;border-left: 1px solid gray;box-sizing: border-box;top: 0;bottom: 0;left: 50%;z-index: -1;}#sk-container-id-1 div.sk-parallel-item {display: flex;flex-direction: column;z-index: 1;position: relative;background-color: white;}#sk-container-id-1 div.sk-parallel-item:first-child::after {align-self: flex-end;width: 50%;}#sk-container-id-1 div.sk-parallel-item:last-child::after {align-self: flex-start;width: 50%;}#sk-container-id-1 div.sk-parallel-item:only-child::after {width: 0;}#sk-container-id-1 div.sk-dashed-wrapped {border: 1px dashed gray;margin: 0 0.4em 0.5em 0.4em;box-sizing: border-box;padding-bottom: 0.4em;background-color: white;}#sk-container-id-1 div.sk-label label {font-family: monospace;font-weight: bold;display: inline-block;line-height: 1.2em;}#sk-container-id-1 div.sk-label-container {text-align: center;}#sk-container-id-1 div.sk-container {/* jupyter's `normalize.less` sets `[hidden] { display: none; }` but bootstrap.min.css set `[hidden] { display: none !important; }` so we also need the `!important` here to be able to override the default hidden behavior on the sphinx rendered scikit-learn.org. See: https://github.com/scikit-learn/scikit-learn/issues/21755 */display: inline-block !important;position: relative;}#sk-container-id-1 div.sk-text-repr-fallback {display: none;}</style><div id=\"sk-container-id-1\" class=\"sk-top-container\"><div class=\"sk-text-repr-fallback\"><pre>RandomForestClassifier(max_depth=5, random_state=2023)</pre><b>In a Jupyter environment, please rerun this cell to show the HTML representation or trust the notebook. <br />On GitHub, the HTML representation is unable to render, please try loading this page with nbviewer.org.</b></div><div class=\"sk-container\" hidden><div class=\"sk-item\"><div class=\"sk-estimator sk-toggleable\"><input class=\"sk-toggleable__control sk-hidden--visually\" id=\"sk-estimator-id-1\" type=\"checkbox\" checked><label for=\"sk-estimator-id-1\" class=\"sk-toggleable__label sk-toggleable__label-arrow\">RandomForestClassifier</label><div class=\"sk-toggleable__content\"><pre>RandomForestClassifier(max_depth=5, random_state=2023)</pre></div></div></div></div></div>"
      ],
      "text/plain": [
       "RandomForestClassifier(max_depth=5, random_state=2023)"
      ]
     },
     "execution_count": 25,
     "metadata": {},
     "output_type": "execute_result"
    }
   ],
   "source": [
    "from sklearn.model_selection import cross_val_score\n",
    "scores=cross_val_score(model,train,target,scoring='f1_macro',cv=5)\n",
    "print(scores.mean())\n",
    "model.fit(train,target)\n",
    "#base:0.4849572060458728\n",
    "#max_depth=5:0.513226905318416\n",
    "#max_depth=7:0.5232864245431778\n",
    "#max_depth=7,n_estimators=200 : 0.522217418628954"
   ]
  },
  {
   "cell_type": "code",
   "execution_count": 26,
   "id": "c50f26f5",
   "metadata": {
    "execution": {
     "iopub.execute_input": "2024-11-27T13:20:58.219649Z",
     "iopub.status.busy": "2024-11-27T13:20:58.218675Z",
     "iopub.status.idle": "2024-11-27T13:20:58.223127Z",
     "shell.execute_reply": "2024-11-27T13:20:58.222104Z"
    },
    "papermill": {
     "duration": 0.016122,
     "end_time": "2024-11-27T13:20:58.225234",
     "exception": false,
     "start_time": "2024-11-27T13:20:58.209112",
     "status": "completed"
    },
    "tags": []
   },
   "outputs": [],
   "source": [
    "# import lightgbm as lbm\n",
    "# model=lbm.LGBMClassifier(random_state=0)"
   ]
  },
  {
   "cell_type": "code",
   "execution_count": 27,
   "id": "34620ae3",
   "metadata": {
    "execution": {
     "iopub.execute_input": "2024-11-27T13:20:58.243764Z",
     "iopub.status.busy": "2024-11-27T13:20:58.243377Z",
     "iopub.status.idle": "2024-11-27T13:20:58.247816Z",
     "shell.execute_reply": "2024-11-27T13:20:58.246898Z"
    },
    "papermill": {
     "duration": 0.016128,
     "end_time": "2024-11-27T13:20:58.249827",
     "exception": false,
     "start_time": "2024-11-27T13:20:58.233699",
     "status": "completed"
    },
    "tags": []
   },
   "outputs": [],
   "source": [
    "# from sklearn.model_selection import cross_val_score\n",
    "# scores=cross_val_score(model,train,target,scoring='f1_macro',cv=5)\n",
    "# print(scores.mean())\n",
    "\n",
    "# # base:0.5096142541494979\n",
    "# #maxdepth=5: 0.5224605736850922\n",
    "# #maxdepth=3: 0.5274208795764617\n",
    "# #n_estimate=200,learning_rate=0.05: 0.5230830521789648"
   ]
  },
  {
   "cell_type": "code",
   "execution_count": 28,
   "id": "6b773223",
   "metadata": {
    "execution": {
     "iopub.execute_input": "2024-11-27T13:20:58.268459Z",
     "iopub.status.busy": "2024-11-27T13:20:58.268053Z",
     "iopub.status.idle": "2024-11-27T13:20:58.272414Z",
     "shell.execute_reply": "2024-11-27T13:20:58.271399Z"
    },
    "papermill": {
     "duration": 0.016189,
     "end_time": "2024-11-27T13:20:58.274587",
     "exception": false,
     "start_time": "2024-11-27T13:20:58.258398",
     "status": "completed"
    },
    "tags": []
   },
   "outputs": [],
   "source": [
    "# model.fit(train,target)"
   ]
  },
  {
   "cell_type": "markdown",
   "id": "ce7ccb7f",
   "metadata": {
    "papermill": {
     "duration": 0.008107,
     "end_time": "2024-11-27T13:20:58.291125",
     "exception": false,
     "start_time": "2024-11-27T13:20:58.283018",
     "status": "completed"
    },
    "tags": []
   },
   "source": [
    "# 6. data submit"
   ]
  },
  {
   "cell_type": "code",
   "execution_count": 29,
   "id": "030315ad",
   "metadata": {
    "execution": {
     "iopub.execute_input": "2024-11-27T13:20:58.309787Z",
     "iopub.status.busy": "2024-11-27T13:20:58.308843Z",
     "iopub.status.idle": "2024-11-27T13:20:58.344517Z",
     "shell.execute_reply": "2024-11-27T13:20:58.343348Z"
    },
    "papermill": {
     "duration": 0.04755,
     "end_time": "2024-11-27T13:20:58.346911",
     "exception": false,
     "start_time": "2024-11-27T13:20:58.299361",
     "status": "completed"
    },
    "tags": []
   },
   "outputs": [
    {
     "name": "stdout",
     "output_type": "stream",
     "text": [
      "          ID  Segmentation\n",
      "0     458989             1\n",
      "1     458994             3\n",
      "2     459000             2\n",
      "3     459003             3\n",
      "4     459005             1\n",
      "...      ...           ...\n",
      "2149  467950             1\n",
      "2150  467954             4\n",
      "2151  467958             1\n",
      "2152  467961             3\n",
      "2153  467968             4\n",
      "\n",
      "[2154 rows x 2 columns]\n"
     ]
    }
   ],
   "source": [
    "pred=model.predict(test)\n",
    "submit=pd.DataFrame(\n",
    "    {\n",
    "        'ID':test_ID,\n",
    "        'Segmentation':pred\n",
    "    }\n",
    ")\n",
    "print(submit)"
   ]
  },
  {
   "cell_type": "code",
   "execution_count": 30,
   "id": "caaa6be7",
   "metadata": {
    "execution": {
     "iopub.execute_input": "2024-11-27T13:20:58.365854Z",
     "iopub.status.busy": "2024-11-27T13:20:58.365507Z",
     "iopub.status.idle": "2024-11-27T13:20:58.382094Z",
     "shell.execute_reply": "2024-11-27T13:20:58.381112Z"
    },
    "papermill": {
     "duration": 0.028869,
     "end_time": "2024-11-27T13:20:58.384347",
     "exception": false,
     "start_time": "2024-11-27T13:20:58.355478",
     "status": "completed"
    },
    "tags": []
   },
   "outputs": [
    {
     "data": {
      "text/html": [
       "<div>\n",
       "<style scoped>\n",
       "    .dataframe tbody tr th:only-of-type {\n",
       "        vertical-align: middle;\n",
       "    }\n",
       "\n",
       "    .dataframe tbody tr th {\n",
       "        vertical-align: top;\n",
       "    }\n",
       "\n",
       "    .dataframe thead th {\n",
       "        text-align: right;\n",
       "    }\n",
       "</style>\n",
       "<table border=\"1\" class=\"dataframe\">\n",
       "  <thead>\n",
       "    <tr style=\"text-align: right;\">\n",
       "      <th></th>\n",
       "      <th>ID</th>\n",
       "      <th>Segmentation</th>\n",
       "    </tr>\n",
       "  </thead>\n",
       "  <tbody>\n",
       "    <tr>\n",
       "      <th>0</th>\n",
       "      <td>458989</td>\n",
       "      <td>1</td>\n",
       "    </tr>\n",
       "    <tr>\n",
       "      <th>1</th>\n",
       "      <td>458994</td>\n",
       "      <td>3</td>\n",
       "    </tr>\n",
       "    <tr>\n",
       "      <th>2</th>\n",
       "      <td>459000</td>\n",
       "      <td>2</td>\n",
       "    </tr>\n",
       "    <tr>\n",
       "      <th>3</th>\n",
       "      <td>459003</td>\n",
       "      <td>3</td>\n",
       "    </tr>\n",
       "    <tr>\n",
       "      <th>4</th>\n",
       "      <td>459005</td>\n",
       "      <td>1</td>\n",
       "    </tr>\n",
       "    <tr>\n",
       "      <th>...</th>\n",
       "      <td>...</td>\n",
       "      <td>...</td>\n",
       "    </tr>\n",
       "    <tr>\n",
       "      <th>2149</th>\n",
       "      <td>467950</td>\n",
       "      <td>1</td>\n",
       "    </tr>\n",
       "    <tr>\n",
       "      <th>2150</th>\n",
       "      <td>467954</td>\n",
       "      <td>4</td>\n",
       "    </tr>\n",
       "    <tr>\n",
       "      <th>2151</th>\n",
       "      <td>467958</td>\n",
       "      <td>1</td>\n",
       "    </tr>\n",
       "    <tr>\n",
       "      <th>2152</th>\n",
       "      <td>467961</td>\n",
       "      <td>3</td>\n",
       "    </tr>\n",
       "    <tr>\n",
       "      <th>2153</th>\n",
       "      <td>467968</td>\n",
       "      <td>4</td>\n",
       "    </tr>\n",
       "  </tbody>\n",
       "</table>\n",
       "<p>2154 rows × 2 columns</p>\n",
       "</div>"
      ],
      "text/plain": [
       "          ID  Segmentation\n",
       "0     458989             1\n",
       "1     458994             3\n",
       "2     459000             2\n",
       "3     459003             3\n",
       "4     459005             1\n",
       "...      ...           ...\n",
       "2149  467950             1\n",
       "2150  467954             4\n",
       "2151  467958             1\n",
       "2152  467961             3\n",
       "2153  467968             4\n",
       "\n",
       "[2154 rows x 2 columns]"
      ]
     },
     "execution_count": 30,
     "metadata": {},
     "output_type": "execute_result"
    }
   ],
   "source": [
    "submit.to_csv('result4_2.csv',index=False)\n",
    "pd.read_csv('result4_2.csv')"
   ]
  },
  {
   "cell_type": "code",
   "execution_count": null,
   "id": "ebfddf12",
   "metadata": {
    "papermill": {
     "duration": 0.008676,
     "end_time": "2024-11-27T13:20:58.402108",
     "exception": false,
     "start_time": "2024-11-27T13:20:58.393432",
     "status": "completed"
    },
    "tags": []
   },
   "outputs": [],
   "source": []
  },
  {
   "cell_type": "code",
   "execution_count": null,
   "id": "6f377384",
   "metadata": {
    "papermill": {
     "duration": 0.008367,
     "end_time": "2024-11-27T13:20:58.419106",
     "exception": false,
     "start_time": "2024-11-27T13:20:58.410739",
     "status": "completed"
    },
    "tags": []
   },
   "outputs": [],
   "source": []
  }
 ],
 "metadata": {
  "kaggle": {
   "accelerator": "none",
   "dataSources": [
    {
     "databundleVersionId": 4530214,
     "sourceId": 37407,
     "sourceType": "competition"
    }
   ],
   "dockerImageVersionId": 30786,
   "isGpuEnabled": false,
   "isInternetEnabled": true,
   "language": "python",
   "sourceType": "notebook"
  },
  "kernelspec": {
   "display_name": "Python 3",
   "language": "python",
   "name": "python3"
  },
  "language_info": {
   "codemirror_mode": {
    "name": "ipython",
    "version": 3
   },
   "file_extension": ".py",
   "mimetype": "text/x-python",
   "name": "python",
   "nbconvert_exporter": "python",
   "pygments_lexer": "ipython3",
   "version": "3.10.14"
  },
  "papermill": {
   "default_parameters": {},
   "duration": 8.964632,
   "end_time": "2024-11-27T13:20:59.148464",
   "environment_variables": {},
   "exception": null,
   "input_path": "__notebook__.ipynb",
   "output_path": "__notebook__.ipynb",
   "parameters": {},
   "start_time": "2024-11-27T13:20:50.183832",
   "version": "2.6.0"
  }
 },
 "nbformat": 4,
 "nbformat_minor": 5
}
